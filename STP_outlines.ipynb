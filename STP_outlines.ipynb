{
 "cells": [
  {
   "cell_type": "code",
   "execution_count": 2,
   "metadata": {},
   "outputs": [],
   "source": [
    "# load packages\n",
    "import numpy as np\n",
    "import pandas as pd\n",
    "import matplotlib.pyplot as plt\n",
    "import seaborn as sns\n",
    "from skimage import io # import tiff file as ndarray\n",
    "import pickle\n",
    "from skimage.segmentation import find_boundaries # for generating boundaries\n",
    "from scipy.ndimage import gaussian_filter # for applying gaussian filter for density plots\n",
    "\n",
    "# import custum colormaps\n",
    "from colormaps import *\n",
    "\n",
    "# import custum functions\n",
    "from STP_plotting import *\n",
    "from STP_processing import *\n",
    "\n",
    "\n",
    "%matplotlib inline\n",
    "\n",
    "# auto refreshes imported functions if source code changes:\n",
    "%load_ext autoreload\n",
    "%autoreload 2"
   ]
  },
  {
   "cell_type": "code",
   "execution_count": 3,
   "metadata": {},
   "outputs": [],
   "source": [
    "# set-up variables\n",
    "in_path = \"/Volumes/Data/Emily/STP_for_MAPseq/4_python_output/input_tifs/\"\n",
    "out_path = \"/Volumes/Data/Emily/STP_for_MAPseq/4_python_output/output_figs/\""
   ]
  },
  {
   "cell_type": "code",
   "execution_count": 4,
   "metadata": {},
   "outputs": [],
   "source": [
    "# import data\n",
    "\n",
    "# import STeg_OMC_220429\n",
    "steg_omc = io.imread(in_path+\"STeg_OMC_220429_b2_hand_straightened_norm_subtracted.tif\", plugin=\"tifffile\")\n",
    "\n",
    "# import STeg_ACC_230308\n",
    "steg_acc = io.imread(in_path+\"STeg_ACC_230308_align_220429_norm_subtracted.tif\", plugin=\"tifffile\")\n",
    "\n",
    "# import MMus_OMC_220303\n",
    "mmus_omc = io.imread(in_path+\"MMus_OMC_220303_b1_hand_straightened_norm_subtracted.tif\", plugin=\"tifffile\")\n",
    "\n",
    "# ipmort MMus_ACC_230404\n",
    "mmus_acc = io.imread(in_path+\"MMus_ACC_230404_align_220303_norm_subtracted.tif\", plugin=\"tifffile\")"
   ]
  },
  {
   "cell_type": "code",
   "execution_count": 5,
   "metadata": {},
   "outputs": [],
   "source": [
    "# load atlases\n",
    "steg_reg_atlas = io.imread(in_path+\"Steg_220429_registered_atlas_RESIZED.tif\", plugin=\"tifffile\")\n",
    "\n",
    "mmus_reg_atlas = io.imread(in_path+\"MMus_220303_registered_atlas_RESIZED.tif\", plugin=\"tifffile\")\n"
   ]
  },
  {
   "cell_type": "code",
   "execution_count": 6,
   "metadata": {},
   "outputs": [],
   "source": [
    "data = [steg_omc, steg_acc, mmus_omc, mmus_acc]\n",
    "titles = [\"STeg OMC\", \"STeg ACC\", \"MMus OMC\", \"MMus ACC\"]\n",
    "\n",
    "# set image parameters\n",
    "ar = 1 # aspect ratio of all images\n",
    "gs = 3 # sigma to use for gaussian smoothing\n",
    "save_dpi = 300"
   ]
  },
  {
   "cell_type": "code",
   "execution_count": null,
   "metadata": {},
   "outputs": [],
   "source": []
  }
 ],
 "metadata": {
  "kernelspec": {
   "display_name": "STP_analysis",
   "language": "python",
   "name": "python3"
  },
  "language_info": {
   "codemirror_mode": {
    "name": "ipython",
    "version": 3
   },
   "file_extension": ".py",
   "mimetype": "text/x-python",
   "name": "python",
   "nbconvert_exporter": "python",
   "pygments_lexer": "ipython3",
   "version": "3.10.9"
  },
  "orig_nbformat": 4
 },
 "nbformat": 4,
 "nbformat_minor": 2
}
