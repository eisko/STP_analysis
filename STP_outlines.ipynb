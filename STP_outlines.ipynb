{
 "cells": [
  {
   "cell_type": "code",
   "execution_count": 41,
   "metadata": {},
   "outputs": [
    {
     "name": "stdout",
     "output_type": "stream",
     "text": [
      "The autoreload extension is already loaded. To reload it, use:\n",
      "  %reload_ext autoreload\n"
     ]
    }
   ],
   "source": [
    "# load packages\n",
    "import numpy as np\n",
    "import pandas as pd\n",
    "import seaborn as sns\n",
    "from skimage import io # import tiff file as ndarray\n",
    "import pickle\n",
    "from skimage.segmentation import find_boundaries # for generating boundaries\n",
    "from scipy.ndimage import gaussian_filter # for applying gaussian filter for density plots\n",
    "\n",
    "\n",
    "# import custum colormaps\n",
    "from colormaps import *\n",
    "\n",
    "# import custum functions\n",
    "from STP_plotting import *\n",
    "from STP_processing import *\n",
    "\n",
    "import matplotlib.pyplot as plt # had to move cuz plt coded as matplotlib?\n",
    "\n",
    "%matplotlib inline\n",
    "\n",
    "# auto refreshes imported functions if source code changes:\n",
    "%load_ext autoreload\n",
    "%autoreload 2"
   ]
  },
  {
   "cell_type": "code",
   "execution_count": 3,
   "metadata": {},
   "outputs": [],
   "source": [
    "# set-up variables\n",
    "in_path = \"/Volumes/Data/Emily/STP_for_MAPseq/4_python_output/input_tifs/\"\n",
    "out_path = \"/Volumes/Data/Emily/STP_for_MAPseq/4_python_output/output_figs/\""
   ]
  },
  {
   "cell_type": "code",
   "execution_count": 4,
   "metadata": {},
   "outputs": [],
   "source": [
    "# import data\n",
    "\n",
    "# import STeg_OMC_220429\n",
    "steg_omc = io.imread(in_path+\"STeg_OMC_220429_b2_hand_straightened_norm_subtracted.tif\", plugin=\"tifffile\")\n",
    "\n",
    "# import STeg_ACC_230308\n",
    "steg_acc = io.imread(in_path+\"STeg_ACC_230308_align_220429_norm_subtracted.tif\", plugin=\"tifffile\")\n",
    "\n",
    "# import MMus_OMC_220303\n",
    "mmus_omc = io.imread(in_path+\"MMus_OMC_220303_b1_hand_straightened_norm_subtracted.tif\", plugin=\"tifffile\")\n",
    "\n",
    "# ipmort MMus_ACC_230404\n",
    "mmus_acc = io.imread(in_path+\"MMus_ACC_230404_align_220303_norm_subtracted.tif\", plugin=\"tifffile\")"
   ]
  },
  {
   "cell_type": "code",
   "execution_count": 5,
   "metadata": {},
   "outputs": [],
   "source": [
    "# load atlases\n",
    "steg_reg_atlas = io.imread(in_path+\"Steg_220429_registered_atlas_RESIZED.tif\", plugin=\"tifffile\")\n",
    "\n",
    "mmus_reg_atlas = io.imread(in_path+\"MMus_220303_registered_atlas_RESIZED.tif\", plugin=\"tifffile\")\n"
   ]
  },
  {
   "cell_type": "code",
   "execution_count": 6,
   "metadata": {},
   "outputs": [],
   "source": [
    "data = [steg_omc, steg_acc, mmus_omc, mmus_acc]\n",
    "titles = [\"STeg OMC\", \"STeg ACC\", \"MMus OMC\", \"MMus ACC\"]\n",
    "\n",
    "# set image parameters\n",
    "ar = 1 # aspect ratio of all images\n",
    "gs = 3 # sigma to use for gaussian smoothing\n",
    "save_dpi = 300"
   ]
  },
  {
   "cell_type": "code",
   "execution_count": 7,
   "metadata": {},
   "outputs": [],
   "source": [
    "# load masks for steg and mmus\n",
    "\n",
    "areas = [\"grey\", \"CTX\", \"TH\", \"STR\", \"CP\", \"P\", \"MB\", \"PAG\", \"HY\", \"CNU\", \"TEa\", \"ECT\", \"VISC\", \"AI\", \"GU\"]\n",
    "\n",
    "mmus_masks = []\n",
    "steg_masks = []\n",
    "\n",
    "# load mmus masks\n",
    "for area in areas:\n",
    "    with open(in_path+\"masks/MMus_220303_\"+area+\".npy\", \"rb\") as f:\n",
    "            mmus_masks.append(np.load(f))\n",
    "\n",
    "# load steg masks\n",
    "for area in areas:\n",
    "    with open(in_path+\"masks/STeg_220429_\"+area+\".npy\", \"rb\") as f:\n",
    "            steg_masks.append(np.load(f))"
   ]
  },
  {
   "cell_type": "code",
   "execution_count": 10,
   "metadata": {},
   "outputs": [
    {
     "name": "stdout",
     "output_type": "stream",
     "text": [
      "(212, 554, 682)\n",
      "grey\n"
     ]
    }
   ],
   "source": [
    "print(mmus_masks[0].shape)\n",
    "print(areas[0])"
   ]
  },
  {
   "cell_type": "code",
   "execution_count": 17,
   "metadata": {},
   "outputs": [
    {
     "name": "stdout",
     "output_type": "stream",
     "text": [
      "[0, 1, 3, 4]\n",
      "3\n"
     ]
    }
   ],
   "source": [
    "mask_order = [\"grey\", \"CTX\", \"STR\", \"CP\"]\n",
    "mask_indices = [i for i, val in enumerate(areas) if val in mask_order]\n",
    "flur_keep = \"STR\"\n",
    "flur_index = areas.index(flur_keep)\n"
   ]
  },
  {
   "cell_type": "code",
   "execution_count": 39,
   "metadata": {},
   "outputs": [
    {
     "data": {
      "text/plain": [
       "<module 'matplotlib.pyplot' from '/Users/eisko/miniconda3/envs/STP_analysis/lib/python3.10/site-packages/matplotlib/pyplot.py'>"
      ]
     },
     "execution_count": 39,
     "metadata": {},
     "output_type": "execute_result"
    }
   ],
   "source": [
    "plt"
   ]
  },
  {
   "cell_type": "code",
   "execution_count": 45,
   "metadata": {},
   "outputs": [
    {
     "data": {
      "image/png": "[encoded data removed]",
      "text/plain": [
       "<Figure size 640x480 with 3 Axes>"
      ]
     },
     "metadata": {},
     "output_type": "display_data"
    }
   ],
   "source": [
    "# STR slice outline\n",
    "mask_order = [\"grey\", \"CTX\", \"STR\", \"CP\"]\n",
    "mask_indices = [i for i, val in enumerate(areas) if val in mask_order]\n",
    "mask_list = [array for i, array in enumerate(steg_masks) if i in mask_indices]\n",
    "\n",
    "\n",
    "flur_keep = \"STR\"\n",
    "flur_index = areas.index(flur_keep)\n",
    "stri = steg_masks[flur_index]\n",
    "\n",
    "stri_slice_mask, stri_slice_boundaries = slice_boundaries(mask_list, stri, scaling_factor=25000)\n",
    "\n",
    "\n",
    "fig, axs = plt.subplots(1,3)\n",
    "axs[0].imshow(stri.max(axis=0))\n",
    "axs[1].imshow(stri_slice_mask)\n",
    "# plt.colorbar()\n",
    "axs[2].imshow(stri_slice_boundaries)\n",
    "# plt.colorbar()\n",
    "plt.show()"
   ]
  },
  {
   "cell_type": "code",
   "execution_count": 90,
   "metadata": {},
   "outputs": [
    {
     "name": "stdout",
     "output_type": "stream",
     "text": [
      "71 151\n"
     ]
    }
   ],
   "source": [
    "test = steg_masks[2]\n",
    "idx = [100,200]\n",
    "test[idx[0]:idx[0]]\n",
    "\n",
    "present = test.sum(axis=1).sum(axis=1) > 0\n",
    "present_idx = np.array(range(present.shape[0]))\n",
    "new = present_idx[present]\n",
    "print(new.min(), new.max())"
   ]
  }
 ],
 "metadata": {
  "kernelspec": {
   "display_name": "STP_analysis",
   "language": "python",
   "name": "python3"
  },
  "language_info": {
   "codemirror_mode": {
    "name": "ipython",
    "version": 3
   },
   "file_extension": ".py",
   "mimetype": "text/x-python",
   "name": "python",
   "nbconvert_exporter": "python",
   "pygments_lexer": "ipython3",
   "version": "3.10.9"
  },
  "orig_nbformat": 4
 },
 "nbformat": 4,
 "nbformat_minor": 2
}
