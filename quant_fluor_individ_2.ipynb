{
 "cells": [
  {
   "cell_type": "code",
   "execution_count": 1,
   "metadata": {},
   "outputs": [],
   "source": [
    "# load packages\n",
    "import numpy as np\n",
    "import pandas as pd\n",
    "# import napari\n",
    "import tifffile as tf\n",
    "import matplotlib.pyplot as plt\n",
    "\n",
    "# import custum colormaps\n",
    "from colormaps import *\n",
    "\n",
    "# import custum functions\n",
    "from STP_plotting import *\n",
    "from STP_processing import *\n",
    "\n",
    "# auto refreshes imported functions if source code changes:\n",
    "%load_ext autoreload\n",
    "%autoreload 2"
   ]
  },
  {
   "cell_type": "code",
   "execution_count": null,
   "metadata": {},
   "outputs": [],
   "source": [
    "# choose based on run in acadia or home computer\n",
    "# home_dir = \"/mnt/labNAS/\"\n",
    "home_dir = \"/Volumes/Data/\"\n",
    "\n",
    "metadata = pd.read_csv(\"stp_metadata.csv\")\n",
    "\n",
    "in_path = home_dir+\"Emily/STP_for_MAPseq/4_python_output/input_tifs/\"\n",
    "out_path = home_dir+\"Emily/STP_for_MAPseq/4_python_output/output_figs/\"\n",
    "\n",
    "# add paths to metadata\n",
    "# output of mean_subtract_individuals.py\n",
    "for i in range(metadata.shape[0]):\n",
    "    b_path = in_path+\"norm_subtracted/p05_mean_subtracted/\"+metadata.loc[i, 'brain']+\"_p05_norm_subtracted.tif\"\n",
    "\n",
    "    metadata.loc[i,\"p05_path\"] = b_path\n",
    "\n",
    "# area list from make_masks.py\n",
    "areas = [\"grey\", \"CTX\", \"OMCi\", \"OMCc\", \"ACAi\", \"ACAc\", \"aud\",\"TH\", \"STR\", \"CP\", \"AMY\", \"P\", \"PG\", \"MB\", \"PAG\", \"SCm\", \n",
    "         \"SNr\", \"HY\", \"CNU\", \"TEa\", \"ECT\", \"VISC\", \"AI\", \"GU\", \"BS\", \"HIP\"]\n"
   ]
  }
 ],
 "metadata": {
  "kernelspec": {
   "display_name": "Python 3",
   "language": "python",
   "name": "python3"
  },
  "language_info": {
   "codemirror_mode": {
    "name": "ipython",
    "version": 3
   },
   "file_extension": ".py",
   "mimetype": "text/x-python",
   "name": "python",
   "nbconvert_exporter": "python",
   "pygments_lexer": "ipython3",
   "version": "3.10.9"
  },
  "orig_nbformat": 4
 },
 "nbformat": 4,
 "nbformat_minor": 2
}
