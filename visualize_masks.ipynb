{
 "cells": [
  {
   "cell_type": "code",
   "execution_count": 2,
   "metadata": {},
   "outputs": [],
   "source": [
    "############ LOAD PACKAGES\n",
    "import numpy as np\n",
    "import pandas as pd\n",
    "import napari\n",
    "import tifffile as tf\n",
    "import matplotlib.pyplot as plt\n",
    "\n",
    "# import custum colormaps\n",
    "from colormaps import *\n",
    "\n",
    "# import custum functions\n",
    "from STP_plotting import *\n",
    "from STP_processing import *\n",
    "\n",
    "# auto refreshes imported functions if source code changes:\n",
    "%load_ext autoreload\n",
    "%autoreload 2"
   ]
  },
  {
   "cell_type": "code",
   "execution_count": 3,
   "metadata": {},
   "outputs": [],
   "source": [
    "########### LOAD DATA\n",
    "# take 4.5 mins\n",
    "\n",
    "# choose based on run in acadia or home computer\n",
    "# home_dir = \"/mnt/labNAS/\"\n",
    "home_dir = \"/Volumes/Data/\"\n",
    "\n",
    "metadata = pd.read_csv(\"stp_metadata.csv\")\n",
    "\n",
    "in_path = home_dir+\"Emily/STP_for_MAPseq/4_python_output/input_tifs/\"\n",
    "out_path = home_dir+\"Emily/STP_for_MAPseq/4_python_output/output_figs/\"\n",
    "\n",
    "# area list from make_masks.py\n",
    "areas = [\"grey\", \"CTX\", \"OMCc\", \"ACAc\", \"aud\",\"TH\", \"STR\", \"CP\", \"AMY\", \"P\", \"PG\", \"MB\", \"PAG\", \"SCm\", \n",
    "         \"SNr\", \"HY\", \"CNU\", \"TEa\", \"ECT\", \"VISC\", \"AI\", \"GU\", \"BS\"]"
   ]
  },
  {
   "cell_type": "code",
   "execution_count": null,
   "metadata": {},
   "outputs": [],
   "source": [
    "\n",
    "# add paths to metadata\n",
    "# make sure to use data aligned to steg/mmus respectively\n",
    "for i in range(metadata.shape[0]):\n",
    "    if metadata.loc[i,\"species\"] == \"STeg\":\n",
    "        b_path = in_path+\"norm_subtracted/STeg_220429_aligned/\"+metadata.loc[i,\"brain\"]+\"_aligned_to_STeg_220429_norm_subtracted.tif\"\n",
    "    elif metadata.loc[i,\"species\"] == \"MMus\":\n",
    "        b_path = in_path+\"norm_subtracted/MMus_220303_aligned/\"+metadata.loc[i,\"brain\"]+\"_aligned_to_MMus_220303_norm_subtracted.tif\"\n",
    "    \n",
    "    metadata.loc[i,\"path\"] = b_path\n",
    "\n",
    "\n",
    "\n",
    "\n",
    "# load images\n",
    "images = []\n",
    "for i in range(metadata.shape[0]):\n",
    "    images.append(tf.imread(metadata.loc[i,\"path\"]))\n",
    "\n",
    "\n"
   ]
  },
  {
   "cell_type": "markdown",
   "metadata": {},
   "source": [
    "# Check masks on ACC brains"
   ]
  },
  {
   "cell_type": "code",
   "execution_count": null,
   "metadata": {},
   "outputs": [],
   "source": [
    "# start napari\n",
    "viewer = napari.Viewer()"
   ]
  },
  {
   "cell_type": "code",
   "execution_count": null,
   "metadata": {},
   "outputs": [],
   "source": [
    "# load relevant images\n",
    "\n",
    "im_label = \"ACC_STeg_\"\n",
    "\n",
    "meta_inj = metadata[metadata[\"inj_site\"]==\"ACC\"]\n",
    "meta_inj_sp = meta_inj[meta_inj[\"species\"]==\"STeg\"]\n",
    "\n",
    "idx = meta_inj_sp.index\n",
    "im_plot = []\n",
    "for i in range(len(idx)):\n",
    "    im_plot.append(images[idx[i]])\n",
    "\n",
    "\n",
    "colors = [\"green\", \"cyan\", \"magenta\"]\n",
    "for i in range(len(im_plot)):\n",
    "    viewer.add_image(\n",
    "        im_plot[i],\n",
    "        name=metadata.loc[idx[i], \"brain\"],\n",
    "        scale=[2.5,1,1],\n",
    "         # contrast_limits=[0,1],\n",
    "         blending=\"additive\",\n",
    "        colormap=colors[i]\n",
    "        )"
   ]
  },
  {
   "cell_type": "code",
   "execution_count": null,
   "metadata": {},
   "outputs": [],
   "source": [
    "areas"
   ]
  },
  {
   "cell_type": "code",
   "execution_count": null,
   "metadata": {},
   "outputs": [],
   "source": [
    "# load mask(s)\n",
    "\n",
    "# load mask(s)\n",
    "areas_plot = [\"OMCc\", \"CP\", \"aud\", \"AMY\", \"TH\", \"HY\", \"SNr\", \"SCm\", \"PG\", \"PAG\", \"BS\"]\n",
    "areas_idx = [areas.index(area) for area in areas_plot]\n",
    "\n",
    "\n",
    "for i in range(len(areas_idx)):\n",
    "    idx = areas_idx[i]\n",
    "    viewer.add_image(\n",
    "        steg_masks[idx],\n",
    "        name=areas[idx],\n",
    "        scale=[2.5,1,1],\n",
    "        blending=\"additive\",\n",
    "        opacity=0.2,\n",
    "        colormap=\"bop orange\"\n",
    "    )\n",
    "\n"
   ]
  },
  {
   "cell_type": "markdown",
   "metadata": {},
   "source": [
    "## areas that look off in ACC STeg mice\n",
    "- PAG/SCm\n",
    "- TH\n",
    "- BS is off center\n",
    "- kinda whole second half of brain is off center"
   ]
  },
  {
   "cell_type": "markdown",
   "metadata": {},
   "source": [
    "# Check masks on OMC brains"
   ]
  },
  {
   "cell_type": "code",
   "execution_count": 1,
   "metadata": {},
   "outputs": [
    {
     "ename": "NameError",
     "evalue": "name 'napari' is not defined",
     "output_type": "error",
     "traceback": [
      "\u001b[0;31m---------------------------------------------------------------------------\u001b[0m",
      "\u001b[0;31mNameError\u001b[0m                                 Traceback (most recent call last)",
      "\u001b[1;32m/home/emily/github_repos/STP_analysis/visualize_masks.ipynb Cell 11\u001b[0m line \u001b[0;36m2\n\u001b[1;32m      <a href='vscode-notebook-cell:/home/emily/github_repos/STP_analysis/visualize_masks.ipynb#X13sZmlsZQ%3D%3D?line=0'>1</a>\u001b[0m \u001b[39m# start napari\u001b[39;00m\n\u001b[0;32m----> <a href='vscode-notebook-cell:/home/emily/github_repos/STP_analysis/visualize_masks.ipynb#X13sZmlsZQ%3D%3D?line=1'>2</a>\u001b[0m viewer \u001b[39m=\u001b[39m napari\u001b[39m.\u001b[39mViewer()\n",
      "\u001b[0;31mNameError\u001b[0m: name 'napari' is not defined"
     ]
    }
   ],
   "source": [
    "# start napari\n",
    "viewer = napari.Viewer()"
   ]
  },
  {
   "cell_type": "code",
   "execution_count": null,
   "metadata": {},
   "outputs": [],
   "source": [
    "# load relevant images\n",
    "\n",
    "im_label = \"OMC_STeg_\"\n",
    "\n",
    "meta_inj = metadata[metadata[\"inj_site\"]==\"OMC\"]\n",
    "meta_inj_sp = meta_inj[meta_inj[\"species\"]==\"STeg\"]\n",
    "\n",
    "idx = meta_inj_sp.index\n",
    "im_plot = []\n",
    "for i in range(len(idx)):\n",
    "    im_plot.append(images[idx[i]])\n",
    "\n",
    "\n",
    "colors = [\"green\", \"cyan\", \"magenta\"]\n",
    "for i in range(len(im_plot)):\n",
    "    viewer.add_image(\n",
    "        im_plot[i],\n",
    "        name=metadata.loc[idx[i], \"brain\"],\n",
    "        scale=[2.5,1,1],\n",
    "        # contrast_limits=[0,10],\n",
    "        blending=\"additive\",\n",
    "        colormap=colors[i]\n",
    "        )"
   ]
  },
  {
   "cell_type": "code",
   "execution_count": null,
   "metadata": {},
   "outputs": [],
   "source": [
    "# load mask(s)\n",
    "areas_plot = [\"OMCc\", \"CP\", \"aud\", \"AMY\", \"TH\", \"HY\", \"SNr\", \"SCm\", \"PG\", \"PAG\", \"BS\"]\n",
    "areas_idx = [areas.index(area) for area in areas_plot]\n",
    "\n",
    "\n",
    "for i in range(len(areas_idx)):\n",
    "    idx = areas_idx[i]\n",
    "    viewer.add_image(\n",
    "        steg_masks[idx],\n",
    "        name=areas[idx],\n",
    "        scale=[2.5,1,1],\n",
    "        blending=\"additive\",\n",
    "        opacity=0.2,\n",
    "        colormap=\"bop orange\"\n",
    "    )"
   ]
  },
  {
   "cell_type": "markdown",
   "metadata": {},
   "source": [
    "## OMC remarks\n",
    "OMC mice are better, but still some discrepancies, especially in PAG and aud regions!"
   ]
  },
  {
   "cell_type": "markdown",
   "metadata": {},
   "source": [
    "# Individual alignments"
   ]
  },
  {
   "cell_type": "code",
   "execution_count": 11,
   "metadata": {},
   "outputs": [
    {
     "data": {
      "text/html": [
       "<div>\n",
       "<style scoped>\n",
       "    .dataframe tbody tr th:only-of-type {\n",
       "        vertical-align: middle;\n",
       "    }\n",
       "\n",
       "    .dataframe tbody tr th {\n",
       "        vertical-align: top;\n",
       "    }\n",
       "\n",
       "    .dataframe thead th {\n",
       "        text-align: right;\n",
       "    }\n",
       "</style>\n",
       "<table border=\"1\" class=\"dataframe\">\n",
       "  <thead>\n",
       "    <tr style=\"text-align: right;\">\n",
       "      <th></th>\n",
       "      <th>brain</th>\n",
       "      <th>species</th>\n",
       "      <th>inj_site</th>\n",
       "      <th>shape</th>\n",
       "    </tr>\n",
       "  </thead>\n",
       "  <tbody>\n",
       "    <tr>\n",
       "      <th>0</th>\n",
       "      <td>ACC_MMus_230403_b1</td>\n",
       "      <td>MMus</td>\n",
       "      <td>ACC</td>\n",
       "      <td>NaN</td>\n",
       "    </tr>\n",
       "    <tr>\n",
       "      <th>1</th>\n",
       "      <td>ACC_MMus_230404_b2</td>\n",
       "      <td>MMus</td>\n",
       "      <td>ACC</td>\n",
       "      <td>NaN</td>\n",
       "    </tr>\n",
       "    <tr>\n",
       "      <th>2</th>\n",
       "      <td>ACC_STeg_230308_b1</td>\n",
       "      <td>STeg</td>\n",
       "      <td>ACC</td>\n",
       "      <td>NaN</td>\n",
       "    </tr>\n",
       "    <tr>\n",
       "      <th>3</th>\n",
       "      <td>ACC_STeg_230322_b2</td>\n",
       "      <td>STeg</td>\n",
       "      <td>ACC</td>\n",
       "      <td>NaN</td>\n",
       "    </tr>\n",
       "    <tr>\n",
       "      <th>4</th>\n",
       "      <td>ACC_STeg_230501_b3</td>\n",
       "      <td>STeg</td>\n",
       "      <td>ACC</td>\n",
       "      <td>NaN</td>\n",
       "    </tr>\n",
       "    <tr>\n",
       "      <th>5</th>\n",
       "      <td>OMC_MMus_220119_b0</td>\n",
       "      <td>MMus</td>\n",
       "      <td>OMC</td>\n",
       "      <td>NaN</td>\n",
       "    </tr>\n",
       "    <tr>\n",
       "      <th>6</th>\n",
       "      <td>OMC_MMus_220303_b1</td>\n",
       "      <td>MMus</td>\n",
       "      <td>OMC</td>\n",
       "      <td>NaN</td>\n",
       "    </tr>\n",
       "    <tr>\n",
       "      <th>7</th>\n",
       "      <td>OMC_MMus_220324_b2</td>\n",
       "      <td>MMus</td>\n",
       "      <td>OMC</td>\n",
       "      <td>NaN</td>\n",
       "    </tr>\n",
       "    <tr>\n",
       "      <th>8</th>\n",
       "      <td>OMC_STeg_220208_b0</td>\n",
       "      <td>STeg</td>\n",
       "      <td>OMC</td>\n",
       "      <td>NaN</td>\n",
       "    </tr>\n",
       "    <tr>\n",
       "      <th>9</th>\n",
       "      <td>OMC_STeg_220411_b1</td>\n",
       "      <td>STeg</td>\n",
       "      <td>OMC</td>\n",
       "      <td>NaN</td>\n",
       "    </tr>\n",
       "    <tr>\n",
       "      <th>10</th>\n",
       "      <td>OMC_STeg_220429_b2</td>\n",
       "      <td>STeg</td>\n",
       "      <td>OMC</td>\n",
       "      <td>NaN</td>\n",
       "    </tr>\n",
       "  </tbody>\n",
       "</table>\n",
       "</div>"
      ],
      "text/plain": [
       "                 brain species inj_site  shape\n",
       "0   ACC_MMus_230403_b1    MMus      ACC    NaN\n",
       "1   ACC_MMus_230404_b2    MMus      ACC    NaN\n",
       "2   ACC_STeg_230308_b1    STeg      ACC    NaN\n",
       "3   ACC_STeg_230322_b2    STeg      ACC    NaN\n",
       "4   ACC_STeg_230501_b3    STeg      ACC    NaN\n",
       "5   OMC_MMus_220119_b0    MMus      OMC    NaN\n",
       "6   OMC_MMus_220303_b1    MMus      OMC    NaN\n",
       "7   OMC_MMus_220324_b2    MMus      OMC    NaN\n",
       "8   OMC_STeg_220208_b0    STeg      OMC    NaN\n",
       "9   OMC_STeg_220411_b1    STeg      OMC    NaN\n",
       "10  OMC_STeg_220429_b2    STeg      OMC    NaN"
      ]
     },
     "execution_count": 11,
     "metadata": {},
     "output_type": "execute_result"
    }
   ],
   "source": [
    "metadata"
   ]
  },
  {
   "cell_type": "code",
   "execution_count": 8,
   "metadata": {},
   "outputs": [
    {
     "name": "stdout",
     "output_type": "stream",
     "text": [
      "ACC_MMus_230427_b3\n",
      "loading ACC_MMus_230427_b3 image\n"
     ]
    },
    {
     "ename": "KeyboardInterrupt",
     "evalue": "",
     "output_type": "error",
     "traceback": [
      "\u001b[0;31m---------------------------------------------------------------------------\u001b[0m",
      "\u001b[0;31mKeyboardInterrupt\u001b[0m                         Traceback (most recent call last)",
      "\u001b[0;32m/tmp/ipykernel_2017842/4247507963.py\u001b[0m in \u001b[0;36m?\u001b[0;34m()\u001b[0m\n\u001b[1;32m     24\u001b[0m \u001b[0;31m# rotate image\u001b[0m\u001b[0;34m\u001b[0m\u001b[0;34m\u001b[0m\u001b[0m\n\u001b[1;32m     25\u001b[0m \u001b[0;34m\u001b[0m\u001b[0m\n\u001b[1;32m     26\u001b[0m \u001b[0;31m# load mean subtracted images\u001b[0m\u001b[0;34m\u001b[0m\u001b[0;34m\u001b[0m\u001b[0m\n\u001b[1;32m     27\u001b[0m \u001b[0mmean_paths\u001b[0m \u001b[0;34m=\u001b[0m \u001b[0mhome_dir\u001b[0m\u001b[0;34m+\u001b[0m\u001b[0;34m\"Emily/STP_for_MAPseq/4_python_output/input_tifs/norm_subtracted/p05_mean_subtracted/\"\u001b[0m\u001b[0;34m\u001b[0m\u001b[0;34m\u001b[0m\u001b[0m\n\u001b[0;32m---> 28\u001b[0;31m \u001b[0mim_mean\u001b[0m \u001b[0;34m=\u001b[0m \u001b[0mtf\u001b[0m\u001b[0;34m.\u001b[0m\u001b[0mimread\u001b[0m\u001b[0;34m(\u001b[0m\u001b[0mmean_paths\u001b[0m\u001b[0;34m+\u001b[0m\u001b[0mmetadata\u001b[0m\u001b[0;34m.\u001b[0m\u001b[0mloc\u001b[0m\u001b[0;34m[\u001b[0m\u001b[0mb\u001b[0m\u001b[0;34m,\u001b[0m\u001b[0;34m\"brain\"\u001b[0m\u001b[0;34m,\u001b[0m\u001b[0;34m]\u001b[0m\u001b[0;34m+\u001b[0m\u001b[0;34m\"_p05_norm_subtracted.tif\"\u001b[0m\u001b[0;34m)\u001b[0m\u001b[0;34m\u001b[0m\u001b[0;34m\u001b[0m\u001b[0m\n\u001b[0m\u001b[1;32m     29\u001b[0m \u001b[0;34m\u001b[0m\u001b[0m\n\u001b[1;32m     30\u001b[0m \u001b[0;31m# load atlases for visualization\u001b[0m\u001b[0;34m\u001b[0m\u001b[0;34m\u001b[0m\u001b[0m\n\u001b[1;32m     31\u001b[0m \u001b[0;31m# load mask(s)\u001b[0m\u001b[0;34m\u001b[0m\u001b[0;34m\u001b[0m\u001b[0m\n",
      "\u001b[0;32m~/.conda/envs/napari/lib/python3.11/site-packages/tifffile/tifffile.py\u001b[0m in \u001b[0;36m?\u001b[0;34m(files, selection, aszarr, key, series, level, squeeze, maxworkers, mode, name, offset, size, pattern, axesorder, categories, imread, sort, container, chunkshape, dtype, axestiled, ioworkers, chunkmode, fillvalue, zattrs, multiscales, omexml, out, out_inplace, _multifile, _useframes, **kwargs)\u001b[0m\n\u001b[1;32m   1079\u001b[0m                     )\n\u001b[1;32m   1080\u001b[0m                     \u001b[0;32mif\u001b[0m \u001b[0mselection\u001b[0m \u001b[0;32mis\u001b[0m \u001b[0;32mNone\u001b[0m\u001b[0;34m:\u001b[0m\u001b[0;34m\u001b[0m\u001b[0;34m\u001b[0m\u001b[0m\n\u001b[1;32m   1081\u001b[0m                         \u001b[0;32mreturn\u001b[0m \u001b[0mstore\u001b[0m\u001b[0;34m\u001b[0m\u001b[0;34m\u001b[0m\u001b[0m\n\u001b[1;32m   1082\u001b[0m                     \u001b[0;32mreturn\u001b[0m \u001b[0mzarr_selection\u001b[0m\u001b[0;34m(\u001b[0m\u001b[0mstore\u001b[0m\u001b[0;34m,\u001b[0m \u001b[0mselection\u001b[0m\u001b[0;34m)\u001b[0m\u001b[0;34m\u001b[0m\u001b[0;34m\u001b[0m\u001b[0m\n\u001b[0;32m-> 1083\u001b[0;31m                 return tif.asarray(\n\u001b[0m\u001b[1;32m   1084\u001b[0m                     \u001b[0mkey\u001b[0m\u001b[0;34m=\u001b[0m\u001b[0mkey\u001b[0m\u001b[0;34m,\u001b[0m\u001b[0;34m\u001b[0m\u001b[0;34m\u001b[0m\u001b[0m\n\u001b[1;32m   1085\u001b[0m                     \u001b[0mseries\u001b[0m\u001b[0;34m=\u001b[0m\u001b[0mseries\u001b[0m\u001b[0;34m,\u001b[0m\u001b[0;34m\u001b[0m\u001b[0;34m\u001b[0m\u001b[0m\n\u001b[1;32m   1086\u001b[0m                     \u001b[0mlevel\u001b[0m\u001b[0;34m=\u001b[0m\u001b[0mlevel\u001b[0m\u001b[0;34m,\u001b[0m\u001b[0;34m\u001b[0m\u001b[0;34m\u001b[0m\u001b[0m\n",
      "\u001b[0;32m~/.conda/envs/napari/lib/python3.11/site-packages/tifffile/tifffile.py\u001b[0m in \u001b[0;36m?\u001b[0;34m(self, key, series, level, squeeze, out, maxworkers)\u001b[0m\n\u001b[1;32m   4258\u001b[0m                 \u001b[0;31m# read into output\u001b[0m\u001b[0;34m\u001b[0m\u001b[0;34m\u001b[0m\u001b[0m\n\u001b[1;32m   4259\u001b[0m                 \u001b[0mshape\u001b[0m \u001b[0;34m=\u001b[0m \u001b[0mseries\u001b[0m\u001b[0;34m.\u001b[0m\u001b[0mget_shape\u001b[0m\u001b[0;34m(\u001b[0m\u001b[0msqueeze\u001b[0m\u001b[0;34m)\u001b[0m\u001b[0;34m\u001b[0m\u001b[0;34m\u001b[0m\u001b[0m\n\u001b[1;32m   4260\u001b[0m                 \u001b[0;32mif\u001b[0m \u001b[0mout\u001b[0m \u001b[0;32mis\u001b[0m \u001b[0;32mnot\u001b[0m \u001b[0;32mNone\u001b[0m\u001b[0;34m:\u001b[0m\u001b[0;34m\u001b[0m\u001b[0;34m\u001b[0m\u001b[0m\n\u001b[1;32m   4261\u001b[0m                     \u001b[0mout\u001b[0m \u001b[0;34m=\u001b[0m \u001b[0mcreate_output\u001b[0m\u001b[0;34m(\u001b[0m\u001b[0mout\u001b[0m\u001b[0;34m,\u001b[0m \u001b[0mshape\u001b[0m\u001b[0;34m,\u001b[0m \u001b[0mseries\u001b[0m\u001b[0;34m.\u001b[0m\u001b[0mdtype\u001b[0m\u001b[0;34m)\u001b[0m\u001b[0;34m\u001b[0m\u001b[0;34m\u001b[0m\u001b[0m\n\u001b[0;32m-> 4262\u001b[0;31m                 result = self.filehandle.read_array(\n\u001b[0m\u001b[1;32m   4263\u001b[0m                     \u001b[0mtypecode\u001b[0m\u001b[0;34m,\u001b[0m\u001b[0;34m\u001b[0m\u001b[0;34m\u001b[0m\u001b[0m\n\u001b[1;32m   4264\u001b[0m                     \u001b[0mseries\u001b[0m\u001b[0;34m.\u001b[0m\u001b[0msize\u001b[0m\u001b[0;34m,\u001b[0m\u001b[0;34m\u001b[0m\u001b[0;34m\u001b[0m\u001b[0m\n\u001b[1;32m   4265\u001b[0m                     \u001b[0mseries\u001b[0m\u001b[0;34m.\u001b[0m\u001b[0mdataoffset\u001b[0m\u001b[0;34m,\u001b[0m\u001b[0;34m\u001b[0m\u001b[0;34m\u001b[0m\u001b[0m\n",
      "\u001b[0;32m~/.conda/envs/napari/lib/python3.11/site-packages/tifffile/tifffile.py\u001b[0m in \u001b[0;36m?\u001b[0;34m(self, dtype, count, offset, out)\u001b[0m\n\u001b[1;32m  14364\u001b[0m             \u001b[0mself\u001b[0m\u001b[0;34m.\u001b[0m\u001b[0m_fh\u001b[0m\u001b[0;34m.\u001b[0m\u001b[0mseek\u001b[0m\u001b[0;34m(\u001b[0m\u001b[0mself\u001b[0m\u001b[0;34m.\u001b[0m\u001b[0m_offset\u001b[0m \u001b[0;34m+\u001b[0m \u001b[0moffset\u001b[0m\u001b[0;34m)\u001b[0m\u001b[0;34m\u001b[0m\u001b[0;34m\u001b[0m\u001b[0m\n\u001b[1;32m  14365\u001b[0m \u001b[0;34m\u001b[0m\u001b[0m\n\u001b[1;32m  14366\u001b[0m         \u001b[0;32mtry\u001b[0m\u001b[0;34m:\u001b[0m\u001b[0;34m\u001b[0m\u001b[0;34m\u001b[0m\u001b[0m\n\u001b[1;32m  14367\u001b[0m             \u001b[0mn\u001b[0m \u001b[0;34m=\u001b[0m \u001b[0mself\u001b[0m\u001b[0;34m.\u001b[0m\u001b[0m_fh\u001b[0m\u001b[0;34m.\u001b[0m\u001b[0mreadinto\u001b[0m\u001b[0;34m(\u001b[0m\u001b[0mresult\u001b[0m\u001b[0;34m)\u001b[0m  \u001b[0;31m# type: ignore\u001b[0m\u001b[0;34m\u001b[0m\u001b[0;34m\u001b[0m\u001b[0m\n\u001b[0;32m> 14368\u001b[0;31m         \u001b[0;32mexcept\u001b[0m \u001b[0mAttributeError\u001b[0m\u001b[0;34m:\u001b[0m\u001b[0;34m\u001b[0m\u001b[0;34m\u001b[0m\u001b[0m\n\u001b[0m\u001b[1;32m  14369\u001b[0m             result[:] = numpy.frombuffer(self._fh.read(nbytes), dtype).reshape(\n\u001b[1;32m  14370\u001b[0m                 \u001b[0mresult\u001b[0m\u001b[0;34m.\u001b[0m\u001b[0mshape\u001b[0m\u001b[0;34m\u001b[0m\u001b[0;34m\u001b[0m\u001b[0m\n\u001b[1;32m  14371\u001b[0m             )\n",
      "\u001b[0;31mKeyboardInterrupt\u001b[0m: "
     ]
    }
   ],
   "source": [
    "home_dir = \"/mnt/labNAS/\"\n",
    "# home_dir = \"/Volumes/Data/\"\n",
    "b=2\n",
    "\n",
    "brain = metadata.loc[b,\"brain\"]\n",
    "print(brain)\n",
    "\n",
    "# # load masks\n",
    "# masks = []\n",
    "# for i in range(len(areas)):\n",
    "#     print('loading', areas[i])\n",
    "#     with open(mask_path+brain+\"_masks/\"+brain+\"_\"+areas[i]+\".npy\", \"rb\") as f:\n",
    "#             masks.append(np.load(f))\n",
    "\n",
    "# load resized boundaries for image\n",
    "bound_path = home_dir+\"Emily/STP_for_MAPseq/4_python_output/input_tifs/resized_atlases/\"\n",
    "bounds = tf.imread(bound_path+\"allen_10um_to_\"+metadata.loc[b,\"brain\"]+\"_boundaires_RESIZED.tiff\")\n",
    "\n",
    "# load raw image\n",
    "csv_file=home_dir+\"Emily/STP_for_MAPseq/processed_data/file_path.csv\"\n",
    "paths = pd.read_csv(csv_file, names=[\"brain\", \"path\"])\n",
    "print('loading', metadata.loc[b,\"brain\"], \"image\")\n",
    "im = tf.imread(home_dir+paths.loc[b,'path'])\n",
    "# rotate image\n",
    "\n",
    "# load mean subtracted images\n",
    "mean_paths = home_dir+\"Emily/STP_for_MAPseq/4_python_output/input_tifs/norm_subtracted/p05_mean_subtracted/\"\n",
    "im_mean = tf.imread(mean_paths+metadata.loc[b,\"brain\",]+\"_p05_norm_subtracted.tif\")\n",
    "\n",
    "# load atlases for visualization\n",
    "# load mask(s)\n",
    "if metadata.loc[b,\"inj_site\"] == \"OMC\":\n",
    "    areas_plot = [\"OMCc\", \"CP\", \"aud\", \"AMY\", \"TH\", \"HY\", \"SNr\", \"SCm\", \"PG\", \"PAG\", \"BS\"]\n",
    "elif metadata.loc[b,\"inj_site\"]==\"ACC\":\n",
    "    areas_plot = [\"ACAc\", \"CP\", \"aud\", \"AMY\", \"TH\", \"HY\", \"SNr\", \"SCm\", \"PG\", \"PAG\", \"BS\"]\n",
    "\n",
    "b_masks = []\n",
    "mask_path = home_dir+\"Emily/STP_for_MAPseq/4_python_output/input_tifs/masks/\"\n",
    "for area in areas_plot:\n",
    "    print('loading:', area)\n",
    "    area_path = mask_path+metadata.loc[b,\"brain\"]+\"_masks/\"+metadata.loc[b,\"brain\"]+\"_\"+area+\".npy\"\n",
    "    with open(area_path, \"rb\") as f:\n",
    "            b_masks.append(np.load(f))\n",
    "\n"
   ]
  },
  {
   "cell_type": "code",
   "execution_count": 13,
   "metadata": {},
   "outputs": [],
   "source": [
    "viewer = napari.Viewer()"
   ]
  },
  {
   "cell_type": "code",
   "execution_count": 14,
   "metadata": {},
   "outputs": [],
   "source": [
    "# # load image\n",
    "# viewer.add_image(\n",
    "#     im,\n",
    "#     name=metadata.loc[b,\"brain\"],\n",
    "#     scale=[2.5,1,1],\n",
    "#     blending=\"additive\"\n",
    "# )\n"
   ]
  },
  {
   "cell_type": "code",
   "execution_count": 15,
   "metadata": {},
   "outputs": [
    {
     "data": {
      "text/plain": [
       "<Image layer 'bounds_ACC_STeg_230308_b1' at 0x180b67ee0>"
      ]
     },
     "execution_count": 15,
     "metadata": {},
     "output_type": "execute_result"
    }
   ],
   "source": [
    "\n",
    "# load boundaries\n",
    "viewer.add_image(\n",
    "    bounds,\n",
    "    name=\"bounds_\"+metadata.loc[b,\"brain\"],\n",
    "    scale=[2.5,1,1],\n",
    "    blending=\"additive\"\n",
    ")"
   ]
  },
  {
   "cell_type": "code",
   "execution_count": 16,
   "metadata": {},
   "outputs": [
    {
     "data": {
      "text/plain": [
       "<Image layer 'mean_ACC_STeg_230308_b1' at 0x180bff160>"
      ]
     },
     "execution_count": 16,
     "metadata": {},
     "output_type": "execute_result"
    }
   ],
   "source": [
    "# load mean_image\n",
    "# load image\n",
    "viewer.add_image(\n",
    "    im_mean,\n",
    "    name=\"mean_\"+metadata.loc[b,\"brain\"],\n",
    "    scale=[2.5,1,1],\n",
    "    blending=\"additive\"\n",
    ")"
   ]
  },
  {
   "cell_type": "code",
   "execution_count": 17,
   "metadata": {},
   "outputs": [],
   "source": [
    "# load masks\n",
    "for i in range(len(areas_plot)):\n",
    "    viewer.add_image(\n",
    "        b_masks[i],\n",
    "        name=areas_plot[i],\n",
    "        scale=[2.5,1,1],\n",
    "        blending=\"additive\",\n",
    "        opacity=0.2,\n",
    "        colormap=\"bop orange\"\n",
    "    )"
   ]
  },
  {
   "cell_type": "markdown",
   "metadata": {},
   "source": [
    "# view MMus+STeg"
   ]
  },
  {
   "cell_type": "code",
   "execution_count": 29,
   "metadata": {},
   "outputs": [
    {
     "data": {
      "text/html": [
       "<div>\n",
       "<style scoped>\n",
       "    .dataframe tbody tr th:only-of-type {\n",
       "        vertical-align: middle;\n",
       "    }\n",
       "\n",
       "    .dataframe tbody tr th {\n",
       "        vertical-align: top;\n",
       "    }\n",
       "\n",
       "    .dataframe thead th {\n",
       "        text-align: right;\n",
       "    }\n",
       "</style>\n",
       "<table border=\"1\" class=\"dataframe\">\n",
       "  <thead>\n",
       "    <tr style=\"text-align: right;\">\n",
       "      <th></th>\n",
       "      <th>brain</th>\n",
       "      <th>species</th>\n",
       "      <th>inj_site</th>\n",
       "      <th>shape</th>\n",
       "    </tr>\n",
       "  </thead>\n",
       "  <tbody>\n",
       "    <tr>\n",
       "      <th>0</th>\n",
       "      <td>ACC_MMus_230403_b1</td>\n",
       "      <td>MMus</td>\n",
       "      <td>ACC</td>\n",
       "      <td>NaN</td>\n",
       "    </tr>\n",
       "    <tr>\n",
       "      <th>1</th>\n",
       "      <td>ACC_MMus_230404_b2</td>\n",
       "      <td>MMus</td>\n",
       "      <td>ACC</td>\n",
       "      <td>NaN</td>\n",
       "    </tr>\n",
       "    <tr>\n",
       "      <th>2</th>\n",
       "      <td>ACC_MMus_230427_b3</td>\n",
       "      <td>MMus</td>\n",
       "      <td>ACC</td>\n",
       "      <td>NaN</td>\n",
       "    </tr>\n",
       "    <tr>\n",
       "      <th>3</th>\n",
       "      <td>ACC_STeg_230308_b1</td>\n",
       "      <td>STeg</td>\n",
       "      <td>ACC</td>\n",
       "      <td>NaN</td>\n",
       "    </tr>\n",
       "    <tr>\n",
       "      <th>4</th>\n",
       "      <td>ACC_STeg_230322_b2</td>\n",
       "      <td>STeg</td>\n",
       "      <td>ACC</td>\n",
       "      <td>NaN</td>\n",
       "    </tr>\n",
       "    <tr>\n",
       "      <th>5</th>\n",
       "      <td>ACC_STeg_230501_b3</td>\n",
       "      <td>STeg</td>\n",
       "      <td>ACC</td>\n",
       "      <td>NaN</td>\n",
       "    </tr>\n",
       "    <tr>\n",
       "      <th>6</th>\n",
       "      <td>OMC_MMus_220119_b0</td>\n",
       "      <td>MMus</td>\n",
       "      <td>OMC</td>\n",
       "      <td>NaN</td>\n",
       "    </tr>\n",
       "    <tr>\n",
       "      <th>7</th>\n",
       "      <td>OMC_MMus_220303_b1</td>\n",
       "      <td>MMus</td>\n",
       "      <td>OMC</td>\n",
       "      <td>NaN</td>\n",
       "    </tr>\n",
       "    <tr>\n",
       "      <th>8</th>\n",
       "      <td>OMC_MMus_220324_b2</td>\n",
       "      <td>MMus</td>\n",
       "      <td>OMC</td>\n",
       "      <td>NaN</td>\n",
       "    </tr>\n",
       "    <tr>\n",
       "      <th>9</th>\n",
       "      <td>OMC_STeg_220208_b0</td>\n",
       "      <td>STeg</td>\n",
       "      <td>OMC</td>\n",
       "      <td>NaN</td>\n",
       "    </tr>\n",
       "    <tr>\n",
       "      <th>10</th>\n",
       "      <td>OMC_STeg_220411_b1</td>\n",
       "      <td>STeg</td>\n",
       "      <td>OMC</td>\n",
       "      <td>NaN</td>\n",
       "    </tr>\n",
       "    <tr>\n",
       "      <th>11</th>\n",
       "      <td>OMC_STeg_220429_b2</td>\n",
       "      <td>STeg</td>\n",
       "      <td>OMC</td>\n",
       "      <td>NaN</td>\n",
       "    </tr>\n",
       "  </tbody>\n",
       "</table>\n",
       "</div>"
      ],
      "text/plain": [
       "                 brain species inj_site  shape\n",
       "0   ACC_MMus_230403_b1    MMus      ACC    NaN\n",
       "1   ACC_MMus_230404_b2    MMus      ACC    NaN\n",
       "2   ACC_MMus_230427_b3    MMus      ACC    NaN\n",
       "3   ACC_STeg_230308_b1    STeg      ACC    NaN\n",
       "4   ACC_STeg_230322_b2    STeg      ACC    NaN\n",
       "5   ACC_STeg_230501_b3    STeg      ACC    NaN\n",
       "6   OMC_MMus_220119_b0    MMus      OMC    NaN\n",
       "7   OMC_MMus_220303_b1    MMus      OMC    NaN\n",
       "8   OMC_MMus_220324_b2    MMus      OMC    NaN\n",
       "9   OMC_STeg_220208_b0    STeg      OMC    NaN\n",
       "10  OMC_STeg_220411_b1    STeg      OMC    NaN\n",
       "11  OMC_STeg_220429_b2    STeg      OMC    NaN"
      ]
     },
     "execution_count": 29,
     "metadata": {},
     "output_type": "execute_result"
    }
   ],
   "source": [
    "metadata"
   ]
  },
  {
   "cell_type": "code",
   "execution_count": 4,
   "metadata": {},
   "outputs": [],
   "source": [
    "viewer = napari.Viewer()"
   ]
  },
  {
   "cell_type": "code",
   "execution_count": 5,
   "metadata": {},
   "outputs": [],
   "source": [
    "metadata\n",
    "home_dir = \"/mnt/labNAS/\""
   ]
  },
  {
   "cell_type": "code",
   "execution_count": 6,
   "metadata": {},
   "outputs": [
    {
     "name": "stdout",
     "output_type": "stream",
     "text": [
      "OMC_STeg_220429_b2\n",
      "OMC_MMus_220324_b2\n"
     ]
    }
   ],
   "source": [
    "in_path = home_dir+\"Emily/STP_for_MAPseq/4_python_output/input_tifs/norm_subtracted/STeg_220429_aligned/\"\n",
    "\n",
    "print(metadata.loc[11,'brain'])\n",
    "print(metadata.loc[8,'brain'])\n",
    "\n",
    "steg_path = in_path+metadata.loc[11,'brain']+\"_aligned_to_STeg_220429_norm_subtracted.tif\"\n",
    "mmus_path = in_path+metadata.loc[8,'brain']+\"_aligned_to_STeg_220429_norm_subtracted.tif\"\n",
    "\n",
    "# atlas boundaries\n",
    "steg_220429_bound =  home_dir+\"Emily/STP_for_MAPseq/4_python_output/input_tifs/resized_atlases/allen_10um_to_OMC_STeg_220429_b2_boundaires_RESIZED.tiff\""
   ]
  },
  {
   "cell_type": "code",
   "execution_count": 7,
   "metadata": {},
   "outputs": [],
   "source": [
    "steg_im = tf.imread(steg_path)\n",
    "mmus_im = tf.imread(mmus_path)"
   ]
  },
  {
   "cell_type": "code",
   "execution_count": 8,
   "metadata": {},
   "outputs": [],
   "source": [
    "bound_im = tf.imread(steg_220429_bound)"
   ]
  },
  {
   "cell_type": "code",
   "execution_count": 9,
   "metadata": {},
   "outputs": [],
   "source": [
    "bound_flip = np.flip(bound_im, axis=2)\n",
    "        # im_flip = np.flip(im_rot, axis=2)\n"
   ]
  },
  {
   "cell_type": "code",
   "execution_count": 10,
   "metadata": {},
   "outputs": [
    {
     "data": {
      "text/plain": [
       "35604.0"
      ]
     },
     "execution_count": 10,
     "metadata": {},
     "output_type": "execute_result"
    }
   ],
   "source": [
    "steg_im.max()"
   ]
  },
  {
   "cell_type": "code",
   "execution_count": 11,
   "metadata": {},
   "outputs": [
    {
     "data": {
      "text/plain": [
       "<Image layer 'boundaries_flipped' at 0x7fdad4533850>"
      ]
     },
     "execution_count": 11,
     "metadata": {},
     "output_type": "execute_result"
    }
   ],
   "source": [
    "viewer.add_image(\n",
    "    steg_im,\n",
    "    name=metadata.loc[11,'brain'],\n",
    "    scale=[2.5,1,1],\n",
    "    blending=\"additive\",\n",
    "    colormap=\"bop orange\",\n",
    "    contrast_limits=[0,5000]\n",
    ")\n",
    "\n",
    "viewer.add_image(\n",
    "    mmus_im,\n",
    "    name=metadata.loc[8,'brain'],\n",
    "    scale=[2.5,1,1],\n",
    "    blending=\"additive\",\n",
    "    colormap=\"bop blue\",\n",
    "    contrast_limits=[0,5000]\n",
    ")\n",
    "\n",
    "viewer.add_image(\n",
    "    bound_flip,\n",
    "    name=\"boundaries_flipped\",\n",
    "    scale=[2.5,1,1],\n",
    "    blending=\"additive\",\n",
    "    opacity=0.2\n",
    ")\n"
   ]
  },
  {
   "cell_type": "code",
   "execution_count": 28,
   "metadata": {},
   "outputs": [
    {
     "data": {
      "text/plain": [
       "<Image layer 'boundaries' at 0x7f2e97c1ce50>"
      ]
     },
     "execution_count": 28,
     "metadata": {},
     "output_type": "execute_result"
    }
   ],
   "source": [
    "viewer.add_image(\n",
    "    bound_im,\n",
    "    name=\"boundaries\",\n",
    "    scale=[2.5,1,1],\n",
    "    blending=\"additive\",\n",
    "    opacity=0.2\n",
    ")"
   ]
  },
  {
   "cell_type": "code",
   "execution_count": 4,
   "metadata": {},
   "outputs": [],
   "source": [
    "# visualize average of 3 replicates in napari\n",
    "\n",
    "# for acadia\n",
    "home_dir = \"/mnt/labNAS/\"\n",
    "\n",
    "in_path = \"/mnt/labNAS/Emily/STP_for_MAPseq/4_python_output/input_tifs/norm_subtracted/STeg_220429_aligned/\"\n",
    "out_path = \"/mnt/labNAS/Emily/STP_for_MAPseq/4_python_output/output_figs/\"\n",
    "\n",
    "metadata = pd.read_csv(\"stp_metadata.csv\")\n",
    "\n",
    "# get file names\n",
    "dir_list = os.listdir(in_path)\n",
    "\n",
    "# set vid parameters\n",
    "species = \"STeg\"\n",
    "inj = \"OMC\"\n",
    "\n",
    "# select species\n",
    "sp_idx = metadata['species'] == species\n",
    "sp_meta = metadata[sp_idx]\n",
    "\n",
    "# select inj site\n",
    "sp_inj_meta = sp_meta[sp_meta[\"inj_site\"]==inj]\n",
    "sp_inj_idx = list(sp_inj_meta.index)\n",
    "\n",
    "# import images\n",
    "image_paths = []\n",
    "for i in sp_inj_idx:\n",
    "    image_paths.append(in_path+metadata.loc[i,'brain']+\"_aligned_to_STeg_220429_norm_subtracted.tif\")\n",
    "\n",
    "steg_omc = [tf.imread(path) for path in image_paths]\\\n",
    "\n",
    "st_omc_mean = np.mean(steg_omc, axis=0)"
   ]
  },
  {
   "cell_type": "code",
   "execution_count": 5,
   "metadata": {},
   "outputs": [],
   "source": [
    "\n",
    "\n",
    "# visualize average of 3 replicates in napari\n",
    "\n",
    "# for acadia\n",
    "home_dir = \"/mnt/labNAS/\"\n",
    "\n",
    "in_path = \"/mnt/labNAS/Emily/STP_for_MAPseq/4_python_output/input_tifs/norm_subtracted/STeg_220429_aligned/\"\n",
    "out_path = \"/mnt/labNAS/Emily/STP_for_MAPseq/4_python_output/output_figs/\"\n",
    "\n",
    "metadata = pd.read_csv(\"stp_metadata.csv\")\n",
    "\n",
    "# get file names\n",
    "dir_list = os.listdir(in_path)\n",
    "\n",
    "# set vid parameters\n",
    "species = \"MMus\"\n",
    "inj = \"OMC\"\n",
    "\n",
    "# select species\n",
    "sp_idx = metadata['species'] == species\n",
    "sp_meta = metadata[sp_idx]\n",
    "\n",
    "# select inj site\n",
    "sp_inj_meta = sp_meta[sp_meta[\"inj_site\"]==inj]\n",
    "sp_inj_idx = list(sp_inj_meta.index)\n",
    "\n",
    "# import images\n",
    "image_paths = []\n",
    "for i in sp_inj_idx:\n",
    "    image_paths.append(in_path+metadata.loc[i,'brain']+\"_aligned_to_STeg_220429_norm_subtracted.tif\")\n",
    "\n",
    "mmus_omc = [tf.imread(path) for path in image_paths]\\\n",
    "\n",
    "mm_omc_mean = np.mean(mmus_omc, axis=0)"
   ]
  },
  {
   "cell_type": "code",
   "execution_count": 6,
   "metadata": {},
   "outputs": [
    {
     "data": {
      "text/plain": [
       "<Image layer 'mmus_omc_mean' at 0x7f888cde0bd0>"
      ]
     },
     "execution_count": 6,
     "metadata": {},
     "output_type": "execute_result"
    }
   ],
   "source": [
    "viewer = napari.Viewer()\n",
    "\n",
    "viewer.add_image(\n",
    "    st_omc_mean,\n",
    "    name=\"steg_omc_mean\",\n",
    "    scale=[2.5,1,1],\n",
    "    blending=\"additive\",\n",
    "    colormap=\"bop orange\"\n",
    ")\n",
    "\n",
    "viewer.add_image(\n",
    "    mm_omc_mean,\n",
    "    name=\"mmus_omc_mean\",\n",
    "    scale=[2.5,1,1],\n",
    "    blending=\"additive\",\n",
    "    colormap=\"bop blue\"\n",
    ")\n"
   ]
  },
  {
   "cell_type": "code",
   "execution_count": 7,
   "metadata": {},
   "outputs": [
    {
     "data": {
      "text/plain": [
       "<Image layer 'boundaries' at 0x7f895448a790>"
      ]
     },
     "execution_count": 7,
     "metadata": {},
     "output_type": "execute_result"
    }
   ],
   "source": [
    "\n",
    "# add atlas boundaries\n",
    "steg_220429_bound =  home_dir+\"Emily/STP_for_MAPseq/3_brainreg_output/OMC_STeg_220429_b2_hand_straightened_asr_aligned_10um/boundaries_RESIZED.tif\"\n",
    "bound_im = tf.imread(steg_220429_bound)\n",
    "# bound_flip = np.flip(bound_im, axis=2)\n",
    "viewer.add_image(\n",
    "    bound_im,\n",
    "    name=\"boundaries\",\n",
    "    scale=[2.5,1,1],\n",
    "    blending=\"additive\",\n",
    "    contrast_limits=[0,10]\n",
    ")"
   ]
  },
  {
   "cell_type": "code",
   "execution_count": 10,
   "metadata": {},
   "outputs": [
    {
     "data": {
      "text/plain": [
       "(522, 692)"
      ]
     },
     "execution_count": 10,
     "metadata": {},
     "output_type": "execute_result"
    }
   ],
   "source": [
    "bound_im.shape[1:]"
   ]
  },
  {
   "cell_type": "code",
   "execution_count": 13,
   "metadata": {},
   "outputs": [
    {
     "name": "stdout",
     "output_type": "stream",
     "text": [
      "done\n"
     ]
    }
   ],
   "source": [
    "# manipulate in napari until get orientation you want...\n",
    "# take screenshot, specify size for highres\n",
    "file_name = \"lm_sm_top_3d.png\"\n",
    "size = bound_im.shape[1:]\n",
    "viewer.screenshot(out_path+file_name, canvas_only=True, size=(size))\n",
    "print(\"done\")"
   ]
  }
 ],
 "metadata": {
  "kernelspec": {
   "display_name": "Python 3",
   "language": "python",
   "name": "python3"
  },
  "language_info": {
   "codemirror_mode": {
    "name": "ipython",
    "version": 3
   },
   "file_extension": ".py",
   "mimetype": "text/x-python",
   "name": "python",
   "nbconvert_exporter": "python",
   "pygments_lexer": "ipython3",
   "version": "3.11.4"
  },
  "orig_nbformat": 4
 },
 "nbformat": 4,
 "nbformat_minor": 2
}
