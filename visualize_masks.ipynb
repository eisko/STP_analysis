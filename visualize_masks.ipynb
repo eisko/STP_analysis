{
 "cells": [
  {
   "cell_type": "code",
   "execution_count": 5,
   "metadata": {},
   "outputs": [
    {
     "name": "stdout",
     "output_type": "stream",
     "text": [
      "The autoreload extension is already loaded. To reload it, use:\n",
      "  %reload_ext autoreload\n"
     ]
    }
   ],
   "source": [
    "############ LOAD PACKAGES\n",
    "import numpy as np\n",
    "import pandas as pd\n",
    "import napari\n",
    "import tifffile as tf\n",
    "import matplotlib.pyplot as plt\n",
    "\n",
    "# import custum colormaps\n",
    "from colormaps import *\n",
    "\n",
    "# import custum functions\n",
    "from STP_plotting import *\n",
    "from STP_processing import *\n",
    "\n",
    "# auto refreshes imported functions if source code changes:\n",
    "%load_ext autoreload\n",
    "%autoreload 2"
   ]
  },
  {
   "cell_type": "code",
   "execution_count": 2,
   "metadata": {},
   "outputs": [],
   "source": [
    "########### LOAD DATA\n",
    "# take 4.5 mins\n",
    "\n",
    "# choose based on run in acadia or home computer\n",
    "# home_dir = \"/mnt/labNAS/\"\n",
    "home_dir = \"/Volumes/Data/\"\n",
    "\n",
    "metadata = pd.read_csv(\"stp_metadata.csv\")\n",
    "\n",
    "in_path = home_dir+\"Emily/STP_for_MAPseq/4_python_output/input_tifs/\"\n",
    "out_path = home_dir+\"Emily/STP_for_MAPseq/4_python_output/output_figs/\"\n",
    "\n",
    "# add paths to metadata\n",
    "# make sure to use data aligned to steg/mmus respectively\n",
    "for i in range(metadata.shape[0]):\n",
    "    if metadata.loc[i,\"species\"] == \"STeg\":\n",
    "        b_path = in_path+\"norm_subtracted/STeg_220429_aligned/\"+metadata.loc[i,\"brain\"]+\"_aligned_to_STeg_220429_norm_subtracted.tif\"\n",
    "    elif metadata.loc[i,\"species\"] == \"MMus\":\n",
    "        b_path = in_path+\"norm_subtracted/MMus_220303_aligned/\"+metadata.loc[i,\"brain\"]+\"_aligned_to_MMus_220303_norm_subtracted.tif\"\n",
    "    \n",
    "    metadata.loc[i,\"path\"] = b_path\n",
    "\n",
    "# area list from make_masks.py\n",
    "areas = [\"grey\", \"CTX\", \"OMCc\", \"ACAc\", \"aud\",\"TH\", \"STR\", \"CP\", \"AMY\", \"P\", \"PG\", \"MB\", \"PAG\", \"SCm\", \n",
    "         \"SNr\", \"HY\", \"CNU\", \"TEa\", \"ECT\", \"VISC\", \"AI\", \"GU\", \"BS\"]\n",
    "\n",
    "# load masks\n",
    "steg_masks = []\n",
    "for i in range(len(areas)):\n",
    "    with open(in_path+\"masks/STeg_220429_\"+areas[i]+\".npy\", \"rb\") as f:\n",
    "            steg_masks.append(np.load(f))\n",
    "\n",
    "mmus_masks = []\n",
    "for i in range(len(areas)):\n",
    "    with open(in_path+\"masks/MMus_220303_\"+areas[i]+\".npy\", \"rb\") as f:\n",
    "            mmus_masks.append(np.load(f))\n",
    "\n",
    "# load images\n",
    "images = []\n",
    "for i in range(metadata.shape[0]):\n",
    "    images.append(tf.imread(metadata.loc[i,\"path\"]))\n",
    "\n",
    "# load atlases\n",
    "st_atlas_path = in_path+\"Steg_220429_registered_atlas_RESIZED.tif\"\n",
    "st_atlas = tf.imread(st_atlas_path)\n",
    "\n",
    "mm_atlas_path = in_path+\"MMus_220303_registered_atlas_RESIZED.tif\"\n",
    "mm_atlas = tf.imread(mm_atlas_path)\n"
   ]
  },
  {
   "cell_type": "markdown",
   "metadata": {},
   "source": [
    "# Check masks on ACC brains"
   ]
  },
  {
   "cell_type": "code",
   "execution_count": 47,
   "metadata": {},
   "outputs": [],
   "source": [
    "# start napari\n",
    "viewer = napari.Viewer()"
   ]
  },
  {
   "cell_type": "code",
   "execution_count": 23,
   "metadata": {},
   "outputs": [
    {
     "name": "stdout",
     "output_type": "stream",
     "text": [
      "2\n",
      "3\n",
      "4\n"
     ]
    }
   ],
   "source": [
    "# load relevant images\n",
    "\n",
    "im_label = \"ACC_STeg_\"\n",
    "\n",
    "meta_inj = metadata[metadata[\"inj_site\"]==\"ACC\"]\n",
    "meta_inj_sp = meta_inj[meta_inj[\"species\"]==\"STeg\"]\n",
    "\n",
    "idx = meta_inj_sp.index\n",
    "im_plot = []\n",
    "for i in range(len(idx)):\n",
    "    im_plot.append(images[idx[i]])\n",
    "\n",
    "\n",
    "colors = [\"green\", \"cyan\", \"magenta\"]\n",
    "for i in range(len(im_plot)):\n",
    "    viewer.add_image(\n",
    "        im_plot[i],\n",
    "        name=metadata.loc[idx[i], \"brain\"],\n",
    "        scale=[2.5,1,1],\n",
    "         # contrast_limits=[0,1],\n",
    "         blending=\"additive\",\n",
    "        colormap=colors[i]\n",
    "        )"
   ]
  },
  {
   "cell_type": "code",
   "execution_count": 32,
   "metadata": {},
   "outputs": [
    {
     "data": {
      "text/plain": [
       "['grey',\n",
       " 'CTX',\n",
       " 'OMCc',\n",
       " 'ACAc',\n",
       " 'aud',\n",
       " 'TH',\n",
       " 'STR',\n",
       " 'CP',\n",
       " 'AMY',\n",
       " 'P',\n",
       " 'PG',\n",
       " 'MB',\n",
       " 'PAG',\n",
       " 'SCm',\n",
       " 'SNr',\n",
       " 'HY',\n",
       " 'CNU',\n",
       " 'TEa',\n",
       " 'ECT',\n",
       " 'VISC',\n",
       " 'AI',\n",
       " 'GU',\n",
       " 'BS']"
      ]
     },
     "execution_count": 32,
     "metadata": {},
     "output_type": "execute_result"
    }
   ],
   "source": [
    "areas"
   ]
  },
  {
   "cell_type": "code",
   "execution_count": 40,
   "metadata": {},
   "outputs": [
    {
     "data": {
      "text/plain": [
       "<Image layer 'BS' at 0x16bff4d60>"
      ]
     },
     "execution_count": 40,
     "metadata": {},
     "output_type": "execute_result"
    }
   ],
   "source": [
    "# load mask(s)\n",
    "idx = areas.index(\"BS\")\n",
    "viewer.add_image(\n",
    "    steg_masks[idx],\n",
    "    name=areas[idx],\n",
    "    scale=[2.5,1,1],\n",
    "    blending=\"additive\",\n",
    "    opacity=0.2,\n",
    "    colormap=\"bop orange\"\n",
    ")"
   ]
  },
  {
   "cell_type": "markdown",
   "metadata": {},
   "source": [
    "## areas that look off in ACC STeg mice\n",
    "- PAG/SCm\n",
    "- TH\n",
    "- BS is off center\n",
    "- kinda whole second half of brain is off center"
   ]
  },
  {
   "cell_type": "markdown",
   "metadata": {},
   "source": [
    "# Check masks on OMC brains"
   ]
  },
  {
   "cell_type": "code",
   "execution_count": null,
   "metadata": {},
   "outputs": [],
   "source": [
    "# start napari\n",
    "viewer = napari.Viewer()"
   ]
  },
  {
   "cell_type": "code",
   "execution_count": 48,
   "metadata": {},
   "outputs": [],
   "source": [
    "# load relevant images\n",
    "\n",
    "im_label = \"OMC_STeg_\"\n",
    "\n",
    "meta_inj = metadata[metadata[\"inj_site\"]==\"OMC\"]\n",
    "meta_inj_sp = meta_inj[meta_inj[\"species\"]==\"STeg\"]\n",
    "\n",
    "idx = meta_inj_sp.index\n",
    "im_plot = []\n",
    "for i in range(len(idx)):\n",
    "    im_plot.append(images[idx[i]])\n",
    "\n",
    "\n",
    "colors = [\"green\", \"cyan\", \"magenta\"]\n",
    "for i in range(len(im_plot)):\n",
    "    viewer.add_image(\n",
    "        im_plot[i],\n",
    "        name=metadata.loc[idx[i], \"brain\"],\n",
    "        scale=[2.5,1,1],\n",
    "        # contrast_limits=[0,10],\n",
    "        blending=\"additive\",\n",
    "        colormap=colors[i]\n",
    "        )"
   ]
  },
  {
   "cell_type": "code",
   "execution_count": 49,
   "metadata": {},
   "outputs": [],
   "source": [
    "# load mask(s)\n",
    "areas_plot = [\"OMCc\", \"CP\", \"aud\", \"AMY\", \"TH\", \"HY\", \"SNr\", \"SCm\", \"PG\", \"PAG\", \"BS\"]\n",
    "areas_idx = [areas.index(area) for area in areas_plot]\n",
    "\n",
    "\n",
    "for i in range(len(areas_idx)):\n",
    "    idx = areas_idx[i]\n",
    "    viewer.add_image(\n",
    "        steg_masks[idx],\n",
    "        name=areas[idx],\n",
    "        scale=[2.5,1,1],\n",
    "        blending=\"additive\",\n",
    "        opacity=0.2,\n",
    "        colormap=\"bop orange\"\n",
    "    )"
   ]
  },
  {
   "cell_type": "markdown",
   "metadata": {},
   "source": [
    "## OMC remarks\n",
    "OMC mice are better, but still some discrepancies, especially in PAG and aud regions!"
   ]
  }
 ],
 "metadata": {
  "kernelspec": {
   "display_name": "Python 3",
   "language": "python",
   "name": "python3"
  },
  "language_info": {
   "codemirror_mode": {
    "name": "ipython",
    "version": 3
   },
   "file_extension": ".py",
   "mimetype": "text/x-python",
   "name": "python",
   "nbconvert_exporter": "python",
   "pygments_lexer": "ipython3",
   "version": "3.10.9"
  },
  "orig_nbformat": 4
 },
 "nbformat": 4,
 "nbformat_minor": 2
}
