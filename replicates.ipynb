{
 "cells": [
  {
   "cell_type": "markdown",
   "metadata": {},
   "source": [
    "# Replicates\n",
    "\n",
    "check overlap of different brains"
   ]
  },
  {
   "cell_type": "code",
   "execution_count": 2,
   "metadata": {},
   "outputs": [],
   "source": [
    "# load packages\n",
    "import numpy as np\n",
    "import pandas as pd\n",
    "import napari\n",
    "import tifffile as tf\n",
    "from skimage import io # import tiff file as ndarray\n",
    "import os"
   ]
  },
  {
   "cell_type": "code",
   "execution_count": 3,
   "metadata": {},
   "outputs": [],
   "source": [
    "in_path = \"/Volumes/Data/Emily/STP_for_MAPseq/4_python_output/input_tifs/norm_subtracted/STeg_220429_aligned/\"\n",
    "out_path = \"/Volumes/Data/Emily/STP_for_MAPseq/4_python_output/output_figs/\"\n",
    "\n",
    "metadata = pd.read_csv(\"stp_metadata.csv\")"
   ]
  },
  {
   "cell_type": "code",
   "execution_count": 4,
   "metadata": {},
   "outputs": [
    {
     "data": {
      "text/html": [
       "<div>\n",
       "<style scoped>\n",
       "    .dataframe tbody tr th:only-of-type {\n",
       "        vertical-align: middle;\n",
       "    }\n",
       "\n",
       "    .dataframe tbody tr th {\n",
       "        vertical-align: top;\n",
       "    }\n",
       "\n",
       "    .dataframe thead th {\n",
       "        text-align: right;\n",
       "    }\n",
       "</style>\n",
       "<table border=\"1\" class=\"dataframe\">\n",
       "  <thead>\n",
       "    <tr style=\"text-align: right;\">\n",
       "      <th></th>\n",
       "      <th>brain</th>\n",
       "      <th>species</th>\n",
       "      <th>inj_site</th>\n",
       "    </tr>\n",
       "  </thead>\n",
       "  <tbody>\n",
       "    <tr>\n",
       "      <th>0</th>\n",
       "      <td>ACC_MMus_230403_b1</td>\n",
       "      <td>MMus</td>\n",
       "      <td>ACC</td>\n",
       "    </tr>\n",
       "    <tr>\n",
       "      <th>1</th>\n",
       "      <td>ACC_MMus_230404_b2</td>\n",
       "      <td>MMUs</td>\n",
       "      <td>ACC</td>\n",
       "    </tr>\n",
       "    <tr>\n",
       "      <th>2</th>\n",
       "      <td>ACC_STeg_230308_b1</td>\n",
       "      <td>STeg</td>\n",
       "      <td>ACC</td>\n",
       "    </tr>\n",
       "    <tr>\n",
       "      <th>3</th>\n",
       "      <td>ACC_STeg_230322_b2</td>\n",
       "      <td>STeg</td>\n",
       "      <td>ACC</td>\n",
       "    </tr>\n",
       "    <tr>\n",
       "      <th>4</th>\n",
       "      <td>ACC_STeg_230501_b3</td>\n",
       "      <td>STeg</td>\n",
       "      <td>ACC</td>\n",
       "    </tr>\n",
       "    <tr>\n",
       "      <th>5</th>\n",
       "      <td>OMC_MMus_220119_b0</td>\n",
       "      <td>MMus</td>\n",
       "      <td>OMC</td>\n",
       "    </tr>\n",
       "    <tr>\n",
       "      <th>6</th>\n",
       "      <td>OMC_MMus_220303_b1</td>\n",
       "      <td>MMus</td>\n",
       "      <td>OMC</td>\n",
       "    </tr>\n",
       "    <tr>\n",
       "      <th>7</th>\n",
       "      <td>OMC_MMus_220324_b2</td>\n",
       "      <td>MMus</td>\n",
       "      <td>OMC</td>\n",
       "    </tr>\n",
       "    <tr>\n",
       "      <th>8</th>\n",
       "      <td>OMC_STeg_220208_b0</td>\n",
       "      <td>STeg</td>\n",
       "      <td>OMC</td>\n",
       "    </tr>\n",
       "    <tr>\n",
       "      <th>9</th>\n",
       "      <td>OMC_STeg_220411_b1</td>\n",
       "      <td>STeg</td>\n",
       "      <td>OMC</td>\n",
       "    </tr>\n",
       "    <tr>\n",
       "      <th>10</th>\n",
       "      <td>OMC_STeg_220429_b2</td>\n",
       "      <td>STeg</td>\n",
       "      <td>OMC</td>\n",
       "    </tr>\n",
       "  </tbody>\n",
       "</table>\n",
       "</div>"
      ],
      "text/plain": [
       "                 brain species inj_site\n",
       "0   ACC_MMus_230403_b1    MMus      ACC\n",
       "1   ACC_MMus_230404_b2    MMUs      ACC\n",
       "2   ACC_STeg_230308_b1    STeg      ACC\n",
       "3   ACC_STeg_230322_b2    STeg      ACC\n",
       "4   ACC_STeg_230501_b3    STeg      ACC\n",
       "5   OMC_MMus_220119_b0    MMus      OMC\n",
       "6   OMC_MMus_220303_b1    MMus      OMC\n",
       "7   OMC_MMus_220324_b2    MMus      OMC\n",
       "8   OMC_STeg_220208_b0    STeg      OMC\n",
       "9   OMC_STeg_220411_b1    STeg      OMC\n",
       "10  OMC_STeg_220429_b2    STeg      OMC"
      ]
     },
     "execution_count": 4,
     "metadata": {},
     "output_type": "execute_result"
    }
   ],
   "source": [
    "metadata"
   ]
  },
  {
   "cell_type": "code",
   "execution_count": 5,
   "metadata": {},
   "outputs": [
    {
     "data": {
      "text/plain": [
       "['ACC_MMus_230403_b1_aligned_to_STeg_220429_norm_subtracted.tif',\n",
       " 'ACC_MMus_230404_b2_aligned_to_STeg_220429_norm_subtracted.tif',\n",
       " 'ACC_STeg_230308_b1_aligned_to_STeg_220429_norm_subtracted.tif',\n",
       " 'ACC_STeg_230322_b2_aligned_to_STeg_220429_norm_subtracted.tif',\n",
       " 'ACC_STeg_230501_b3_aligned_to_STeg_220429_norm_subtracted.tif',\n",
       " 'OMC_MMus_220119_b0_aligned_to_STeg_220429_norm_subtracted.tif',\n",
       " 'OMC_MMus_220303_b1_aligned_to_STeg_220429_norm_subtracted.tif',\n",
       " 'OMC_MMus_220324_b2_aligned_to_STeg_220429_norm_subtracted.tif',\n",
       " 'OMC_STeg_220208_b0_aligned_to_STeg_220429_norm_subtracted.tif',\n",
       " 'OMC_STeg_220411_b1_aligned_to_STeg_220429_norm_subtracted.tif',\n",
       " 'OMC_STeg_220429_b2_aligned_to_STeg_220429_norm_subtracted.tif']"
      ]
     },
     "execution_count": 5,
     "metadata": {},
     "output_type": "execute_result"
    }
   ],
   "source": [
    "# get file names\n",
    "dir_list = os.listdir(in_path)\n",
    "dir_list"
   ]
  },
  {
   "cell_type": "code",
   "execution_count": 6,
   "metadata": {},
   "outputs": [
    {
     "name": "stdout",
     "output_type": "stream",
     "text": [
      "OMC_STeg_220208_b0_aligned_to_STeg_220429_norm_subtracted.tif\n",
      "OMC_STeg_220411_b1_aligned_to_STeg_220429_norm_subtracted.tif\n",
      "OMC_STeg_220429_b2_aligned_to_STeg_220429_norm_subtracted.tif\n"
     ]
    }
   ],
   "source": [
    "steg_idx = metadata['species'] == \"STeg\"\n",
    "steg_meta = metadata[steg_idx]\n",
    "steg_omc_meta = steg_meta[steg_meta[\"inj_site\"]==\"OMC\"]\n",
    "steg_omc_idx = list(steg_omc_meta.index)\n",
    "for i in steg_omc_idx:\n",
    "    print(dir_list[i])"
   ]
  },
  {
   "cell_type": "code",
   "execution_count": 7,
   "metadata": {},
   "outputs": [
    {
     "data": {
      "text/plain": [
       "'OMC_STeg_220208_b0'"
      ]
     },
     "execution_count": 7,
     "metadata": {},
     "output_type": "execute_result"
    }
   ],
   "source": [
    "steg_omc_meta.iloc[0, 0]"
   ]
  },
  {
   "cell_type": "code",
   "execution_count": 8,
   "metadata": {},
   "outputs": [],
   "source": [
    "# import images\n",
    "images = []\n",
    "for i in steg_omc_idx:\n",
    "    images.append(tf.imread(in_path+dir_list[i]))\n",
    "    # images.append(io.imread(in_path+dir_list[i]))\n",
    "    # print(in_path+dir_list[i])\n"
   ]
  },
  {
   "cell_type": "code",
   "execution_count": 9,
   "metadata": {},
   "outputs": [],
   "source": [
    "viewer = napari.Viewer()"
   ]
  },
  {
   "cell_type": "code",
   "execution_count": 10,
   "metadata": {},
   "outputs": [],
   "source": [
    "colors = [\"green\", \"cyan\", \"magenta\"]\n",
    "for i in range(len(images)):\n",
    "    viewer.add_image(\n",
    "        images[i],\n",
    "        name=steg_omc_meta.iloc[i, 0],\n",
    "        scale=[2.5,1,1],\n",
    "         # contrast_limits=[0,1],\n",
    "         blending=\"additive\",\n",
    "        colormap=colors[i]\n",
    "        )"
   ]
  },
  {
   "cell_type": "code",
   "execution_count": 17,
   "metadata": {},
   "outputs": [
    {
     "data": {
      "text/plain": [
       "201"
      ]
     },
     "execution_count": 17,
     "metadata": {},
     "output_type": "execute_result"
    }
   ],
   "source": [
    "im_size = images[0].shape[0]\n",
    "im_size"
   ]
  },
  {
   "cell_type": "code",
   "execution_count": 12,
   "metadata": {},
   "outputs": [],
   "source": [
    "from napari_animation import Animation\n"
   ]
  },
  {
   "cell_type": "code",
   "execution_count": 34,
   "metadata": {},
   "outputs": [
    {
     "name": "stdout",
     "output_type": "stream",
     "text": [
      "Rendering frames...\n"
     ]
    },
    {
     "name": "stderr",
     "output_type": "stream",
     "text": [
      "  0%|          | 0/3001 [00:00<?, ?it/s]IMAGEIO FFMPEG_WRITER WARNING: input image is not divisible by macro_block_size=16, resizing from (1064, 976) to (1072, 976) to ensure video compatibility with most codecs and players. To prevent resizing, make your input image divisible by the macro_block_size or set the macro_block_size to 1 (risking incompatibility).\n",
      "100%|██████████| 3001/3001 [01:43<00:00, 28.89it/s]\n"
     ]
    }
   ],
   "source": [
    "# capture scroll through brain\n",
    "animation = Animation(viewer)\n",
    "\n",
    "animation.capture_keyframe()\n",
    "\n",
    "for i in range(200):\n",
    "    viewer.dims.set_point(0, i*20)\n",
    "    animation.capture_keyframe()\n",
    "\n",
    "\n",
    "# animation.animate(out_path+'steg_omc_all.mov', canvas_only=True)\n",
    "animation.animate(out_path+'steg_all.mp4')"
   ]
  },
  {
   "cell_type": "code",
   "execution_count": 26,
   "metadata": {},
   "outputs": [],
   "source": [
    "viewer.dims.set_point(0, 1000)"
   ]
  }
 ],
 "metadata": {
  "kernelspec": {
   "display_name": "STP_analysis",
   "language": "python",
   "name": "python3"
  },
  "language_info": {
   "codemirror_mode": {
    "name": "ipython",
    "version": 3
   },
   "file_extension": ".py",
   "mimetype": "text/x-python",
   "name": "python",
   "nbconvert_exporter": "python",
   "pygments_lexer": "ipython3",
   "version": "3.10.9"
  },
  "orig_nbformat": 4
 },
 "nbformat": 4,
 "nbformat_minor": 2
}
