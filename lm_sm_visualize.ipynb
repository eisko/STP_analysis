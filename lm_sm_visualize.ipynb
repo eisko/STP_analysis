{
 "cells": [
  {
   "cell_type": "code",
   "execution_count": 2,
   "metadata": {},
   "outputs": [
    {
     "name": "stdout",
     "output_type": "stream",
     "text": [
      "The autoreload extension is already loaded. To reload it, use:\n",
      "  %reload_ext autoreload\n"
     ]
    }
   ],
   "source": [
    "############ LOAD PACKAGES\n",
    "import numpy as np\n",
    "import pandas as pd\n",
    "import napari\n",
    "import tifffile as tf\n",
    "import matplotlib.pyplot as plt\n",
    "\n",
    "# import custum colormaps\n",
    "from colormaps import *\n",
    "\n",
    "# import custum functions\n",
    "from STP_plotting import *\n",
    "from STP_processing import *\n",
    "\n",
    "# auto refreshes imported functions if source code changes:\n",
    "%load_ext autoreload\n",
    "%autoreload 2"
   ]
  },
  {
   "cell_type": "code",
   "execution_count": 3,
   "metadata": {},
   "outputs": [],
   "source": [
    "# set-up vars\n",
    "home_dir = \"/Volumes/Data/\"\n",
    "# home_dir = \"/mnt/labNAS/\"\n",
    "\n",
    "in_path = home_dir+\"Emily/STP_for_MAPseq/4_python_output/input_tifs/\"\n",
    "out_path = home_dir+\"Emily/STP_for_MAPseq/4_python_output/output_figs/\"\n",
    "\n",
    "metadata = pd.read_csv(\"stp_metadata.csv\")"
   ]
  },
  {
   "cell_type": "code",
   "execution_count": 29,
   "metadata": {},
   "outputs": [],
   "source": [
    "# import example singing mouse\n",
    "# import hand-straight brain\n",
    "steg_to_st_tif = in_path+\"norm_subtracted/STeg_220429_aligned/OMC_STeg_220208_b0_aligned_to_STeg_220429_NO_subtracted.tif\"\n",
    "\n",
    "# import 230429 STeg brain- seems to be brighter than others???\n",
    "steg_hs_asr = home_dir+\"Emily/STP_for_MAPseq/2_fiji_adjusted/OMC_STeg_220429_b2_hand_straightened_asr.tif\"\n",
    "\n",
    "# # import example lab mouse\n",
    "# mmus_tif = home_dir+\"Emily/STP_for_MAPseq/2_fiji_adjusted/OMC_MMus_220303_b1_hand_straightened_asr.tif\"\n",
    "\n",
    "\n",
    "# import example lab mouse aligned to sm\n",
    "mmus_to_st_tif = in_path+\"norm_subtracted/STeg_220429_aligned/OMC_MMus_220119_b0_aligned_to_STeg_220429_NO_subtracted.tif\"\n",
    "\n",
    "\n",
    "# load tifs\n",
    "steg_to_st = tf.imread(steg_to_st_tif)\n",
    "# mmus = tf.imread(mmus_tif)\n",
    "steg = tf.imread(steg_hs_asr)\n",
    "mmus_to_st_b0 = tf.imread(mmus_to_st_tif)\n"
   ]
  },
  {
   "cell_type": "code",
   "execution_count": 5,
   "metadata": {},
   "outputs": [],
   "source": [
    "\n",
    "# import boundaries\n",
    "# import aligned to hand-straight\n",
    "boundaries_path = home_dir+\"Emily/STP_for_MAPseq/3_brainreg_output/OMC_STeg_220429_b2_hand_straightened_asr_aligned_10um/boundaries_RESIZED.tif\"\n",
    "boundaries = tf.imread(boundaries_path)\n",
    "\n",
    "\n"
   ]
  },
  {
   "cell_type": "code",
   "execution_count": 30,
   "metadata": {},
   "outputs": [
    {
     "data": {
      "text/plain": [
       "<Image layer 'boundaries' at 0x17f0efb20>"
      ]
     },
     "execution_count": 30,
     "metadata": {},
     "output_type": "execute_result"
    }
   ],
   "source": [
    "viewer = napari.Viewer()\n",
    "\n",
    "# # add example image\n",
    "# viewer.add_image(\n",
    "#     steg_to_st,\n",
    "#     scale=[50,20,20],\n",
    "#     blending=\"additive\",\n",
    "#     colormap=\"bop orange\"\n",
    "# )\n",
    "\n",
    "# add example image\n",
    "viewer.add_image(\n",
    "    steg,\n",
    "    scale=[50,20,20],\n",
    "    blending=\"additive\",\n",
    "    colormap=\"bop orange\"\n",
    ")\n",
    "\n",
    "# # add example image\n",
    "# viewer.add_image(\n",
    "#     mmus,\n",
    "#     scale=[2.5,1,1],\n",
    "#     blending=\"additive\"\n",
    "# )\n",
    "\n",
    "# add example image\n",
    "viewer.add_image(\n",
    "    mmus_to_st_b0,\n",
    "    scale=[50,20,20],\n",
    "    blending=\"additive\",\n",
    "    colormap=\"bop blue\"\n",
    ")\n",
    "\n",
    "# add example image\n",
    "viewer.add_image(\n",
    "    boundaries,\n",
    "    scale=[50,20,20],\n",
    "    blending=\"additive\"\n",
    ")\n"
   ]
  },
  {
   "cell_type": "code",
   "execution_count": 31,
   "metadata": {},
   "outputs": [
    {
     "data": {
      "text/plain": [
       "<Image layer 'boundaries [1]' at 0x180309d80>"
      ]
     },
     "execution_count": 31,
     "metadata": {},
     "output_type": "execute_result"
    }
   ],
   "source": [
    "# add example image\n",
    "viewer.add_image(\n",
    "    boundaries,\n",
    "    scale=[50,20,20],\n",
    "    blending=\"additive\"\n",
    ")"
   ]
  },
  {
   "cell_type": "code",
   "execution_count": 32,
   "metadata": {},
   "outputs": [],
   "source": [
    "# add scale bar\n",
    "viewer.scale_bar.visible = True\n",
    "viewer.scale_bar.unit = \"um\"\n",
    "# viewer.scale_bar."
   ]
  },
  {
   "cell_type": "code",
   "execution_count": 41,
   "metadata": {},
   "outputs": [
    {
     "name": "stdout",
     "output_type": "stream",
     "text": [
      "done\n"
     ]
    }
   ],
   "source": [
    "# manipulate in napari until get orientation you want...\n",
    "# take screenshot, specify size for highres\n",
    "file_name = \"st220429_mm220119_align220429_z97_TEa_mm.png\"\n",
    "size = steg_to_st.shape[1:]\n",
    "viewer.screenshot(out_path+file_name, canvas_only=True, size=(size))\n",
    "print(\"done\")"
   ]
  },
  {
   "cell_type": "code",
   "execution_count": null,
   "metadata": {},
   "outputs": [],
   "source": []
  }
 ],
 "metadata": {
  "kernelspec": {
   "display_name": "napari",
   "language": "python",
   "name": "python3"
  },
  "language_info": {
   "codemirror_mode": {
    "name": "ipython",
    "version": 3
   },
   "file_extension": ".py",
   "mimetype": "text/x-python",
   "name": "python",
   "nbconvert_exporter": "python",
   "pygments_lexer": "ipython3",
   "version": "3.11.4"
  },
  "orig_nbformat": 4
 },
 "nbformat": 4,
 "nbformat_minor": 2
}
