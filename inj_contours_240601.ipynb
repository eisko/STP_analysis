{
 "cells": [
  {
   "cell_type": "code",
   "execution_count": 1,
   "metadata": {},
   "outputs": [],
   "source": [
    "# load packages\n",
    "import numpy as np\n",
    "import pandas as pd\n",
    "import napari\n",
    "import tifffile as tf\n",
    "import os\n",
    "import matplotlib.pyplot as plt\n",
    "import copy # needed for deepcopy of dictionaries\n",
    "from matplotlib.lines import Line2D # for custom legend\n",
    "from matplotlib_scalebar.scalebar import ScaleBar\n",
    "\n",
    "plt.rcParams['svg.fonttype'] = 'none'\n",
    "\n",
    "from skimage.filters import threshold_otsu # threshold method used to threshold inj site\n",
    "\n",
    "\n",
    "# import custum colormaps\n",
    "from colormaps import *\n",
    "\n",
    "# import custum functions\n",
    "from STP_plotting import *\n",
    "from STP_processing import *\n",
    "\n",
    "# auto refreshes imported functions if source code changes:\n",
    "%load_ext autoreload\n",
    "%autoreload 2\n",
    "# Set-up variables\n"
   ]
  },
  {
   "cell_type": "code",
   "execution_count": 2,
   "metadata": {},
   "outputs": [],
   "source": [
    "home_dir = \"/Volumes/Data/\"\n",
    "# home_dir = \"/mnt/labNAS/\"\n",
    "\n",
    "in_path = home_dir+\"Emily/STP_for_MAPseq/4_python_output/input_tifs/\"\n",
    "out_path = \"/Users/eisko/Documents/CSHL/mapseq_paper/svg_images/\"\n",
    "\n",
    "# load metadata\n",
    "metadata = pd.read_csv(\"stp_metadata.csv\")"
   ]
  },
  {
   "cell_type": "markdown",
   "metadata": {},
   "source": [
    "# STeg"
   ]
  },
  {
   "cell_type": "code",
   "execution_count": 3,
   "metadata": {},
   "outputs": [
    {
     "name": "stdout",
     "output_type": "stream",
     "text": [
      "working on grey\n",
      "working on CTX\n",
      "working on OMCi\n",
      "working on OMCc\n",
      "working on STR\n",
      "working on CP\n",
      "working on BS\n"
     ]
    }
   ],
   "source": [
    "# import masks from allen_STeg_220429_straight_asr\n",
    "masks_folder = in_path+\"masks/steg_220429_hs_asr/\"\n",
    "\n",
    "# area list from make_masks.py\n",
    "# areas = [\"grey\", \"CTX\", \"OMCi\", \"OMCc\", \"ACAi\", \"ACAc\", \"aud\",\"TH\", \"STR\", \"CP\", \"AMY\", \"P\", \"PG\", \"MB\", \"PAG\", \"SCm\", \n",
    "#          \"SNr\", \"HY\", \"CNU\", \"TEa\", \"ECT\", \"VISC\", \"AI\", \"GU\", \"BS\", \"HIP\"]\n",
    "areas = [\"grey\", \"CTX\", \"OMCi\", \"OMCc\", \"STR\", \"CP\",\"BS\"]\n",
    "\n",
    "\n",
    "# make dictionary where keys = areas, values=list of masks corresponding to metadata order\n",
    "masks = {}\n",
    "for area in areas:\n",
    "    print(\"working on\", area)\n",
    "    with open(masks_folder+\"steg_220429_hs_asr_\"+area+\".npy\", \"rb\") as f:\n",
    "        masks[area] = np.load(f)"
   ]
  },
  {
   "cell_type": "code",
   "execution_count": 4,
   "metadata": {},
   "outputs": [
    {
     "name": "stdout",
     "output_type": "stream",
     "text": [
      "loading: OMC_STeg_220208_b0\n",
      "loading: OMC_STeg_220411_b1\n",
      "loading: OMC_STeg_220429_b2\n"
     ]
    }
   ],
   "source": [
    "# load STeg/OMC brains\n",
    "# aligned to STeg_220429 hand straight asr\n",
    "sp = \"STeg\"\n",
    "inj = \"OMC\"\n",
    "\n",
    "meta_sp = metadata[metadata['species']==sp]\n",
    "meta_sp_inj = meta_sp[meta_sp['inj_site']==inj].reset_index(drop=True)\n",
    "\n",
    "for i in range(meta_sp_inj.shape[0]):\n",
    "    meta_sp_inj.loc[i, 'path'] = in_path+\"norm_subtracted/STeg_220429_aligned/\"+meta_sp_inj.loc[i,'brain']+\"_aligned_to_STeg_220429_NO_subtracted.tif\"\n",
    "\n",
    "images = []\n",
    "for i in range(meta_sp_inj.shape[0]):\n",
    "    print('loading:', meta_sp_inj.loc[i,'brain'])\n",
    "    images.append(tf.imread(meta_sp_inj.loc[i,'path']))"
   ]
  },
  {
   "cell_type": "code",
   "execution_count": 5,
   "metadata": {},
   "outputs": [],
   "source": [
    "# Get threshold to mark saturated inj site\n",
    "im_thr = [threshold_otsu(im) for im in images]\n",
    "# create binary mask using threshold\n",
    "masks['inj_thr'] = [images[i] > im_thr[i] for i in range(len(images))]\n",
    "# use intersection of thresholded and OMCi (MOp+MOs) to mark injection site\n",
    "masks['inj'] = [masks['inj_thr'][i] & masks['OMCi'] for i in range(len(images))] # bitwise operator\n"
   ]
  },
  {
   "cell_type": "code",
   "execution_count": 69,
   "metadata": {},
   "outputs": [
    {
     "data": {
      "image/png": "[encoded data removed]",
      "text/plain": [
       "<Figure size 400x400 with 1 Axes>"
      ]
     },
     "metadata": {},
     "output_type": "display_data"
    }
   ],
   "source": [
    "# specify colors to use for each individual\n",
    "orange1 = create_cmap(103, 52, 19)\n",
    "orange2 = create_cmap(224, 150, 32)\n",
    "orange3 = create_cmap(255, 212, 143)\n",
    "color_list = [orange1, orange2, orange3]\n",
    "\n",
    "# plot topdown contour of brain\n",
    "plot_contour(images, mask_dict=masks, roi=\"inj\", masks_to_plot=[\"grey\", \"BS\", \"STR\", \"CP\", \"CTX\"], \n",
    "             view=\"top\", ncontours=1, alpha=0.5, cmaps=color_list, linewidths=0.5,\n",
    "             ref_fill=True, plot_fill=False)\n",
    "\n",
    "# set figure size\n",
    "fig = plt.gcf()\n",
    "fig.set_size_inches(4,4)\n",
    "\n",
    "ax = plt.gca()\n",
    "ax.invert_xaxis() # need to flip image so injection site on right side as injected\n",
    "lines = [Line2D([0], [0], color=color_list[i].colors[-1], alpha=0.9, \n",
    "                linestyle=\"-\", linewidth=1) for i in range(3)]\n",
    "labels = [\"STeg1\", \"Steg2\", \"STeg3\"]\n",
    "plt.legend(lines,labels, bbox_to_anchor=(1.75, 1))\n",
    "\n",
    "# add scale bar\n",
    "scalebar = ScaleBar(0.02, \"mm\", length_fraction=0.25, location=\"lower right\", pad=-0.75)\n",
    "ax.add_artist(scalebar)\n",
    "\n",
    "\n",
    "\n",
    "plt.savefig(out_path+\"steg_inj_contour.svg\", dpi=300, bbox_inches=\"tight\")\n",
    "plt.show()"
   ]
  },
  {
   "cell_type": "markdown",
   "metadata": {},
   "source": [
    "# MMus"
   ]
  },
  {
   "cell_type": "code",
   "execution_count": 70,
   "metadata": {},
   "outputs": [
    {
     "name": "stdout",
     "output_type": "stream",
     "text": [
      "working on grey\n",
      "working on CTX\n",
      "working on OMCi\n",
      "working on OMCc\n",
      "working on STR\n",
      "working on CP\n",
      "working on BS\n"
     ]
    }
   ],
   "source": [
    "# import masks from allen_mmus_220303_straight_asr\n",
    "masks_folder = in_path+\"masks/mmus_220303_hs_asr/\"\n",
    "\n",
    "# area list from make_masks.py\n",
    "# areas = [\"grey\", \"CTX\", \"OMCi\", \"OMCc\", \"ACAi\", \"ACAc\", \"aud\",\"TH\", \"STR\", \"CP\", \"AMY\", \"P\", \"PG\", \"MB\", \"PAG\", \"SCm\", \n",
    "#          \"SNr\", \"HY\", \"CNU\", \"TEa\", \"ECT\", \"VISC\", \"AI\", \"GU\", \"BS\", \"HIP\"]\n",
    "areas = [\"grey\", \"CTX\", \"OMCi\", \"OMCc\", \"STR\", \"CP\",\"BS\"]\n",
    "\n",
    "\n",
    "\n",
    "# make dictionary where keys = areas, values=list of masks corresponding to metadata order\n",
    "masks = {}\n",
    "for area in areas:\n",
    "    print(\"working on\", area)\n",
    "    with open(masks_folder+\"mmus_220303_hs_asr_\"+area+\".npy\", \"rb\") as f:\n",
    "        masks[area] = np.load(f)\n"
   ]
  },
  {
   "cell_type": "code",
   "execution_count": 71,
   "metadata": {},
   "outputs": [
    {
     "name": "stdout",
     "output_type": "stream",
     "text": [
      "loading: OMC_MMus_220119_b0\n",
      "loading: OMC_MMus_220303_b1\n",
      "loading: OMC_MMus_220324_b2\n"
     ]
    }
   ],
   "source": [
    "\n",
    "# load MMus/OMC brains\n",
    "# aligned to MMus_220303 hand straight asr\n",
    "sp = \"MMus\"\n",
    "inj = \"OMC\"\n",
    "\n",
    "meta_sp = metadata[metadata['species']==sp]\n",
    "meta_sp_inj = meta_sp[meta_sp['inj_site']==inj].reset_index(drop=True)\n",
    "\n",
    "for i in range(meta_sp_inj.shape[0]):\n",
    "    meta_sp_inj.loc[i, 'path'] = in_path+\"norm_subtracted/MMus_220303_aligned/\"+meta_sp_inj.loc[i,'brain']+\"_aligned_to_MMus_220303_NO_subtracted.tif\"\n",
    "\n",
    "images = []\n",
    "for i in range(meta_sp_inj.shape[0]):\n",
    "    print('loading:', meta_sp_inj.loc[i,'brain'])\n",
    "    images.append(tf.imread(meta_sp_inj.loc[i,'path']))\n"
   ]
  },
  {
   "cell_type": "code",
   "execution_count": 72,
   "metadata": {},
   "outputs": [],
   "source": [
    "# Use otsu method to determine threshold for injection site\n",
    "im_thr = [threshold_otsu(im) for im in images]\n",
    "# create mask for injection site based on threshold\n",
    "masks['inj_thr'] = [images[i] > im_thr[i] for i in range(len(images))]\n",
    "# only keep injection site pixels that overlap b/w threshold and OMCi mask\n",
    "masks['inj'] = [masks['inj_thr'][i] & masks['OMCi'] for i in range(len(images))] # bitwise operator\n"
   ]
  },
  {
   "cell_type": "code",
   "execution_count": 75,
   "metadata": {},
   "outputs": [
    {
     "data": {
      "image/png": "[encoded data removed]",
      "text/plain": [
       "<Figure size 400x400 with 1 Axes>"
      ]
     },
     "metadata": {},
     "output_type": "display_data"
    }
   ],
   "source": [
    "\n",
    "blue1 = create_cmap(39, 50, 86)\n",
    "blue2 = create_cmap(41, 73, 154)\n",
    "blue3 = create_cmap(155, 181, 222)\n",
    "color_list = [blue1, blue2, blue3]\n",
    "\n",
    "# plot topdown contour of brain\n",
    "plot_contour(images, mask_dict=masks, roi=\"inj\", masks_to_plot=[\"grey\", \"BS\", \"STR\", \"CP\", \"CTX\"], \n",
    "             view=\"top\", ncontours=1, alpha=0.5, cmaps=color_list, linewidths=0.5,\n",
    "             ref_fill=True, plot_fill=False)\n",
    "\n",
    "# set figure size\n",
    "fig = plt.gcf()\n",
    "fig.set_size_inches(4,4)\n",
    "\n",
    "ax = plt.gca()\n",
    "# ax.invert_xaxis() # need to flip image so injection site on right side as injected\n",
    "lines = [Line2D([0], [0], color=color_list[i].colors[-1], alpha=0.9, \n",
    "                linestyle=\"-\", linewidth=1) for i in range(3)]\n",
    "labels = [\"MMus1\", \"MMus2\", \"MMus3\"]\n",
    "plt.legend(lines,labels, bbox_to_anchor=(1.75, 1))\n",
    "\n",
    "# add scale bar\n",
    "scalebar = ScaleBar(0.02, \"mm\", length_fraction=0.25, location=\"lower right\", pad=-0.75)\n",
    "ax.add_artist(scalebar)\n",
    "\n",
    "\n",
    "\n",
    "plt.savefig(out_path+\"mmus_inj_contour.svg\", dpi=300, bbox_inches=\"tight\")\n",
    "plt.show()"
   ]
  },
  {
   "cell_type": "markdown",
   "metadata": {},
   "source": [
    "# Visualize in napari"
   ]
  },
  {
   "cell_type": "code",
   "execution_count": 9,
   "metadata": {},
   "outputs": [],
   "source": [
    "viewer = napari.Viewer()\n",
    "\n",
    "viewer.add_image(\n",
    "    masks[\"OMCi\"],\n",
    "    name=\"OMCi mask\"\n",
    ")\n",
    "\n",
    "# add brain images\n",
    "for i in range(meta_sp_inj.shape[0]):\n",
    "    viewer.add_image(\n",
    "        images[i],\n",
    "        name=meta_sp_inj.loc[i,'brain']\n",
    "    )\n",
    "\n",
    "for i in range(len(masks[\"inj\"])):\n",
    "    viewer.add_image(\n",
    "        masks[\"inj\"][i],\n",
    "        name=\"inj_\"+meta_sp_inj.loc[i,'brain']\n",
    "    )"
   ]
  },
  {
   "cell_type": "code",
   "execution_count": 10,
   "metadata": {},
   "outputs": [],
   "source": [
    "viewer.close()"
   ]
  }
 ],
 "metadata": {
  "kernelspec": {
   "display_name": "Python 3",
   "language": "python",
   "name": "python3"
  },
  "language_info": {
   "codemirror_mode": {
    "name": "ipython",
    "version": 3
   },
   "file_extension": ".py",
   "mimetype": "text/x-python",
   "name": "python",
   "nbconvert_exporter": "python",
   "pygments_lexer": "ipython3",
   "version": "3.10.9"
  }
 },
 "nbformat": 4,
 "nbformat_minor": 2
}
