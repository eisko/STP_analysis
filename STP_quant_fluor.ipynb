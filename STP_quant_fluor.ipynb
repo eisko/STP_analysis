{
 "cells": [
  {
   "cell_type": "code",
   "execution_count": 2,
   "metadata": {},
   "outputs": [],
   "source": [
    "# load packages\n",
    "import numpy as np\n",
    "import pandas as pd\n",
    "# import napari\n",
    "import tifffile as tf\n",
    "from skimage import io # import tiff file as ndarray\n",
    "import os\n",
    "import matplotlib.pyplot as plt\n",
    "\n",
    "# import custum colormaps\n",
    "from colormaps import *\n",
    "\n",
    "# import custum functions\n",
    "from STP_plotting import *\n",
    "from STP_processing import *\n",
    "\n",
    "# auto refreshes imported functions if source code changes:\n",
    "%load_ext autoreload\n",
    "%autoreload 2\n",
    "\n"
   ]
  },
  {
   "cell_type": "code",
   "execution_count": 8,
   "metadata": {},
   "outputs": [],
   "source": [
    "# Acadia\n",
    "in_path = \"/mnt/labNAS/Emily/STP_for_MAPseq/4_python_output/input_tifs/norm_subtracted/STeg_220429_aligned/\"\n",
    "out_path = \"/mnt/labNAS/Emily/STP_for_MAPseq/4_python_output/output_figs/\"\n",
    "\n",
    "metadata = pd.read_csv(\"stp_metadata.csv\")\n",
    "\n",
    "# get file paths\n",
    "dir_list = os.listdir(in_path)\n",
    "\n",
    "metadata['path'] = dir_list\n",
    "\n",
    "# area list from make_masks.py\n",
    "areas_masked = [\"grey\", \"CTX\", \"OMCc\", \"aud\",\"TH\", \"STR\", \"CP\", \"AMY\", \"P\", \"PG\", \"MB\", \"PAG\", \"SCm\", \n",
    "         \"SNr\", \"HY\", \"CNU\", \"TEa\", \"ECT\", \"VISC\", \"AI\", \"GU\", \"BS\"]\n"
   ]
  },
  {
   "cell_type": "code",
   "execution_count": 5,
   "metadata": {},
   "outputs": [],
   "source": [
    "# load masks\n",
    "steg_masks = []\n",
    "for i in range(len(areas)):\n",
    "    with open(\"/mnt/labNAS/Emily/STP_for_MAPseq/4_python_output/input_tifs/masks/STeg_220429_\"+areas[i]+\".npy\", \"rb\") as f:\n",
    "            steg_masks.append(np.load(f))\n",
    "\n",
    "mmus_masks = []\n",
    "for i in range(len(areas)):\n",
    "    with open(\"/mnt/labNAS/Emily/STP_for_MAPseq/4_python_output/input_tifs/masks/MMus_220303_\"+areas[i]+\".npy\", \"rb\") as f:\n",
    "            mmus_masks.append(np.load(f))\n",
    "\n",
    "\n",
    "# import images\n",
    "images = []\n",
    "for i in range(len(dir_list)):\n",
    "    images.append(tf.imread(in_path+dir_list[i]))\n",
    "\n",
    "# import atlases\n",
    "st_atlas_path = \"/mnt/labNAS/Emily/STP_for_MAPseq/4_python_output/input_tifs/Steg_220429_registered_atlas_RESIZED.tif\"\n",
    "st_atlas = tf.imread(st_atlas_path)\n",
    "\n",
    "mm_atlas_path = \"/mnt/labNAS/Emily/STP_for_MAPseq/4_python_output/input_tifs/MMus_220303_registered_atlas_RESIZED.tif\"\n",
    "mm_atlas = tf.imread(mm_atlas_path)\n"
   ]
  },
  {
   "cell_type": "markdown",
   "metadata": {},
   "source": [
    "# quantify integrated fluorescence\n",
    "\n",
    "\n"
   ]
  },
  {
   "cell_type": "code",
   "execution_count": null,
   "metadata": {},
   "outputs": [],
   "source": [
    "# areas that match w/ mapseq data\n",
    "areas_plot = [\"OMCc\", \"CP\", \"aud\", \"AMY\", \"TH\", \"HY\", \"SNr\", \"SCm\", \"PG\", \"PAG\", \"BS\"]\n",
    "\n",
    "masks_plot = [areas_masked[areas_masked.index(area)] for area in areas_plot]\n",
    "\n"
   ]
  },
  {
   "cell_type": "code",
   "execution_count": null,
   "metadata": {},
   "outputs": [],
   "source": []
  }
 ],
 "metadata": {
  "kernelspec": {
   "display_name": "STP_analysis",
   "language": "python",
   "name": "python3"
  },
  "language_info": {
   "codemirror_mode": {
    "name": "ipython",
    "version": 3
   },
   "file_extension": ".py",
   "mimetype": "text/x-python",
   "name": "python",
   "nbconvert_exporter": "python",
   "pygments_lexer": "ipython3",
   "version": "3.11.4"
  },
  "orig_nbformat": 4
 },
 "nbformat": 4,
 "nbformat_minor": 2
}
