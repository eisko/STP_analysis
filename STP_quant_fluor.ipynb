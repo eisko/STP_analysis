{
 "cells": [
  {
   "cell_type": "code",
   "execution_count": 24,
   "metadata": {},
   "outputs": [
    {
     "name": "stdout",
     "output_type": "stream",
     "text": [
      "The autoreload extension is already loaded. To reload it, use:\n",
      "  %reload_ext autoreload\n"
     ]
    }
   ],
   "source": [
    "# load packages\n",
    "import numpy as np\n",
    "import pandas as pd\n",
    "# import napari\n",
    "import tifffile as tf\n",
    "from skimage import io # import tiff file as ndarray\n",
    "import os\n",
    "import matplotlib.pyplot as plt\n",
    "\n",
    "# import custum colormaps\n",
    "from colormaps import *\n",
    "\n",
    "# import custum functions\n",
    "from STP_plotting import *\n",
    "from STP_processing import *\n",
    "\n",
    "# auto refreshes imported functions if source code changes:\n",
    "%load_ext autoreload\n",
    "%autoreload 2\n",
    "\n"
   ]
  },
  {
   "cell_type": "code",
   "execution_count": 35,
   "metadata": {},
   "outputs": [],
   "source": [
    "# choose based on run in acadia or home computer\n",
    "# home_dir = \"/mnt/labNAS/\"\n",
    "home_dir = \"/Volumes/Data/\"\n",
    "\n",
    "metadata = pd.read_csv(\"stp_metadata.csv\")\n",
    "\n",
    "in_path = home_dir+\"Emily/STP_for_MAPseq/4_python_output/input_tifs/\"\n",
    "out_path = home_dir+\"Emily/STP_for_MAPseq/4_python_output/output_figs/\"\n",
    "\n",
    "# add paths to metadata\n",
    "for i in range(metadata.shape[0]):\n",
    "    if metadata.loc[i,\"species\"] == \"STeg\":\n",
    "        b_path = in_path+\"norm_subtracted/STeg_220429_aligned/\"+metadata.loc[i,\"brain\"]+\"_aligned_to_STeg_220429_norm_subtracted.tif\"\n",
    "    elif metadata.loc[i,\"species\"] == \"MMus\":\n",
    "        b_path = in_path+\"norm_subtracted/MMus_220303_aligned/\"+metadata.loc[i,\"brain\"]+\"_aligned_to_MMus_220303_norm_subtracted.tif\"\n",
    "    \n",
    "    metadata.loc[i,\"path\"] = b_path\n",
    "\n",
    "# get file paths\n",
    "# dir_list = os.listdir(in_path)\n",
    "\n",
    "# metadata['path'] = dir_list\n",
    "\n",
    "# area list from make_masks.py\n",
    "areas_masked = [\"grey\", \"CTX\", \"OMCc\", \"aud\",\"TH\", \"STR\", \"CP\", \"AMY\", \"P\", \"PG\", \"MB\", \"PAG\", \"SCm\", \n",
    "         \"SNr\", \"HY\", \"CNU\", \"TEa\", \"ECT\", \"VISC\", \"AI\", \"GU\", \"BS\"]\n"
   ]
  },
  {
   "cell_type": "code",
   "execution_count": 36,
   "metadata": {},
   "outputs": [
    {
     "data": {
      "text/html": [
       "<div>\n",
       "<style scoped>\n",
       "    .dataframe tbody tr th:only-of-type {\n",
       "        vertical-align: middle;\n",
       "    }\n",
       "\n",
       "    .dataframe tbody tr th {\n",
       "        vertical-align: top;\n",
       "    }\n",
       "\n",
       "    .dataframe thead th {\n",
       "        text-align: right;\n",
       "    }\n",
       "</style>\n",
       "<table border=\"1\" class=\"dataframe\">\n",
       "  <thead>\n",
       "    <tr style=\"text-align: right;\">\n",
       "      <th></th>\n",
       "      <th>brain</th>\n",
       "      <th>species</th>\n",
       "      <th>inj_site</th>\n",
       "      <th>path</th>\n",
       "    </tr>\n",
       "  </thead>\n",
       "  <tbody>\n",
       "    <tr>\n",
       "      <th>0</th>\n",
       "      <td>ACC_MMus_230403_b1</td>\n",
       "      <td>MMus</td>\n",
       "      <td>ACC</td>\n",
       "      <td>/Volumes/Data/Emily/STP_for_MAPseq/4_python_ou...</td>\n",
       "    </tr>\n",
       "    <tr>\n",
       "      <th>1</th>\n",
       "      <td>ACC_MMus_230404_b2</td>\n",
       "      <td>MMUs</td>\n",
       "      <td>ACC</td>\n",
       "      <td>/Volumes/Data/Emily/STP_for_MAPseq/4_python_ou...</td>\n",
       "    </tr>\n",
       "    <tr>\n",
       "      <th>2</th>\n",
       "      <td>ACC_STeg_230308_b1</td>\n",
       "      <td>STeg</td>\n",
       "      <td>ACC</td>\n",
       "      <td>/Volumes/Data/Emily/STP_for_MAPseq/4_python_ou...</td>\n",
       "    </tr>\n",
       "    <tr>\n",
       "      <th>3</th>\n",
       "      <td>ACC_STeg_230322_b2</td>\n",
       "      <td>STeg</td>\n",
       "      <td>ACC</td>\n",
       "      <td>/Volumes/Data/Emily/STP_for_MAPseq/4_python_ou...</td>\n",
       "    </tr>\n",
       "    <tr>\n",
       "      <th>4</th>\n",
       "      <td>ACC_STeg_230501_b3</td>\n",
       "      <td>STeg</td>\n",
       "      <td>ACC</td>\n",
       "      <td>/Volumes/Data/Emily/STP_for_MAPseq/4_python_ou...</td>\n",
       "    </tr>\n",
       "    <tr>\n",
       "      <th>5</th>\n",
       "      <td>OMC_MMus_220119_b0</td>\n",
       "      <td>MMus</td>\n",
       "      <td>OMC</td>\n",
       "      <td>/Volumes/Data/Emily/STP_for_MAPseq/4_python_ou...</td>\n",
       "    </tr>\n",
       "    <tr>\n",
       "      <th>6</th>\n",
       "      <td>OMC_MMus_220303_b1</td>\n",
       "      <td>MMus</td>\n",
       "      <td>OMC</td>\n",
       "      <td>/Volumes/Data/Emily/STP_for_MAPseq/4_python_ou...</td>\n",
       "    </tr>\n",
       "    <tr>\n",
       "      <th>7</th>\n",
       "      <td>OMC_MMus_220324_b2</td>\n",
       "      <td>MMus</td>\n",
       "      <td>OMC</td>\n",
       "      <td>/Volumes/Data/Emily/STP_for_MAPseq/4_python_ou...</td>\n",
       "    </tr>\n",
       "    <tr>\n",
       "      <th>8</th>\n",
       "      <td>OMC_STeg_220208_b0</td>\n",
       "      <td>STeg</td>\n",
       "      <td>OMC</td>\n",
       "      <td>/Volumes/Data/Emily/STP_for_MAPseq/4_python_ou...</td>\n",
       "    </tr>\n",
       "    <tr>\n",
       "      <th>9</th>\n",
       "      <td>OMC_STeg_220411_b1</td>\n",
       "      <td>STeg</td>\n",
       "      <td>OMC</td>\n",
       "      <td>/Volumes/Data/Emily/STP_for_MAPseq/4_python_ou...</td>\n",
       "    </tr>\n",
       "    <tr>\n",
       "      <th>10</th>\n",
       "      <td>OMC_STeg_220429_b2</td>\n",
       "      <td>STeg</td>\n",
       "      <td>OMC</td>\n",
       "      <td>/Volumes/Data/Emily/STP_for_MAPseq/4_python_ou...</td>\n",
       "    </tr>\n",
       "  </tbody>\n",
       "</table>\n",
       "</div>"
      ],
      "text/plain": [
       "                 brain species inj_site  \\\n",
       "0   ACC_MMus_230403_b1    MMus      ACC   \n",
       "1   ACC_MMus_230404_b2    MMUs      ACC   \n",
       "2   ACC_STeg_230308_b1    STeg      ACC   \n",
       "3   ACC_STeg_230322_b2    STeg      ACC   \n",
       "4   ACC_STeg_230501_b3    STeg      ACC   \n",
       "5   OMC_MMus_220119_b0    MMus      OMC   \n",
       "6   OMC_MMus_220303_b1    MMus      OMC   \n",
       "7   OMC_MMus_220324_b2    MMus      OMC   \n",
       "8   OMC_STeg_220208_b0    STeg      OMC   \n",
       "9   OMC_STeg_220411_b1    STeg      OMC   \n",
       "10  OMC_STeg_220429_b2    STeg      OMC   \n",
       "\n",
       "                                                 path  \n",
       "0   /Volumes/Data/Emily/STP_for_MAPseq/4_python_ou...  \n",
       "1   /Volumes/Data/Emily/STP_for_MAPseq/4_python_ou...  \n",
       "2   /Volumes/Data/Emily/STP_for_MAPseq/4_python_ou...  \n",
       "3   /Volumes/Data/Emily/STP_for_MAPseq/4_python_ou...  \n",
       "4   /Volumes/Data/Emily/STP_for_MAPseq/4_python_ou...  \n",
       "5   /Volumes/Data/Emily/STP_for_MAPseq/4_python_ou...  \n",
       "6   /Volumes/Data/Emily/STP_for_MAPseq/4_python_ou...  \n",
       "7   /Volumes/Data/Emily/STP_for_MAPseq/4_python_ou...  \n",
       "8   /Volumes/Data/Emily/STP_for_MAPseq/4_python_ou...  \n",
       "9   /Volumes/Data/Emily/STP_for_MAPseq/4_python_ou...  \n",
       "10  /Volumes/Data/Emily/STP_for_MAPseq/4_python_ou...  "
      ]
     },
     "execution_count": 36,
     "metadata": {},
     "output_type": "execute_result"
    }
   ],
   "source": [
    "metadata"
   ]
  },
  {
   "cell_type": "code",
   "execution_count": 37,
   "metadata": {},
   "outputs": [],
   "source": [
    "# load masks\n",
    "steg_masks = []\n",
    "for i in range(len(areas)):\n",
    "    with open(in_path+\"masks/STeg_220429_\"+areas[i]+\".npy\", \"rb\") as f:\n",
    "            steg_masks.append(np.load(f))\n",
    "\n",
    "mmus_masks = []\n",
    "for i in range(len(areas)):\n",
    "    with open(in_path+\"masks/MMus_220303_\"+areas[i]+\".npy\", \"rb\") as f:\n",
    "            mmus_masks.append(np.load(f))\n",
    "\n",
    "\n",
    "# import images\n",
    "images = []\n",
    "for i in range(metadata.shape[0]):\n",
    "    images.append(tf.imread(metadata.loc[i,\"path\"]))\n",
    "\n",
    "# import atlases\n",
    "st_atlas_path = in_path+\"Steg_220429_registered_atlas_RESIZED.tif\"\n",
    "st_atlas = tf.imread(st_atlas_path)\n",
    "\n",
    "mm_atlas_path = in_path+\"MMus_220303_registered_atlas_RESIZED.tif\"\n",
    "mm_atlas = tf.imread(mm_atlas_path)\n"
   ]
  },
  {
   "cell_type": "markdown",
   "metadata": {},
   "source": [
    "# quantify integrated fluorescence\n",
    "\n",
    "\n"
   ]
  },
  {
   "cell_type": "code",
   "execution_count": 39,
   "metadata": {},
   "outputs": [],
   "source": [
    "# areas that match w/ mapseq data\n",
    "areas_plot = [\"OMCc\", \"CP\", \"aud\", \"AMY\", \"TH\", \"HY\", \"SNr\", \"SCm\", \"PG\", \"PAG\", \"BS\"]\n"
   ]
  },
  {
   "cell_type": "code",
   "execution_count": 42,
   "metadata": {},
   "outputs": [
    {
     "data": {
      "text/plain": [
       "(212, 554, 682)"
      ]
     },
     "execution_count": 42,
     "metadata": {},
     "output_type": "execute_result"
    }
   ],
   "source": [
    "mmus_masks[0].shape"
   ]
  },
  {
   "cell_type": "markdown",
   "metadata": {},
   "source": [
    "## OMC"
   ]
  },
  {
   "cell_type": "code",
   "execution_count": 38,
   "metadata": {},
   "outputs": [],
   "source": [
    "# set metadata\n",
    "meta_omc = metadata[metadata[\"inj_site\"]==\"OMC\"]\n",
    "meta_omc = meta_omc.reset_index()\n",
    "\n",
    "images_omc = [images[i] for i in meta_omc[\"index\"]]"
   ]
  },
  {
   "cell_type": "code",
   "execution_count": 43,
   "metadata": {},
   "outputs": [
    {
     "name": "stdout",
     "output_type": "stream",
     "text": [
      "uint16\n",
      "bool\n"
     ]
    }
   ],
   "source": [
    "test = images[0]\n",
    "test2 = mmus_masks[0]\n",
    "print(test.dtype)\n",
    "print(test2.dtype)"
   ]
  },
  {
   "cell_type": "code",
   "execution_count": 22,
   "metadata": {},
   "outputs": [
    {
     "name": "stdout",
     "output_type": "stream",
     "text": [
      "Help on function calc_fluor in module STP_processing:\n",
      "\n",
      "calc_fluor(images, metadata, mm_masks, st_masks, mask_areas, areas_to_plot)\n",
      "    Calculates integrated fluorescence on a per area basis.\n",
      "    Returns a pandas dataframe\n",
      "    \n",
      "    Args:\n",
      "        images (list): list of images to calculate\n",
      "        metadata (dataframe): Pandas dataframe where each row corresponds to image in iamges\n",
      "        mm_masks (list): mmus masks from mmus aligned atlas\n",
      "        st_masks (list): steg masks from steg aligned atlas\n",
      "        mask_areas (list): List of strings that label each mask in mm/st_masks\n",
      "        areas_to_plot (list): List of strings for each area to plot\n",
      "\n"
     ]
    }
   ],
   "source": [
    "help(calc_fluor)"
   ]
  },
  {
   "cell_type": "code",
   "execution_count": 48,
   "metadata": {},
   "outputs": [
    {
     "name": "stdout",
     "output_type": "stream",
     "text": [
      "16\n",
      "11\n",
      "16\n",
      "16\n"
     ]
    },
    {
     "ename": "ValueError",
     "evalue": "'OMCc' is not in list",
     "output_type": "error",
     "traceback": [
      "\u001b[0;31m---------------------------------------------------------------------------\u001b[0m",
      "\u001b[0;31mValueError\u001b[0m                                Traceback (most recent call last)",
      "\u001b[1;32m/Users/eisko/github_repos/STP_analysis/STP_quant_fluor.ipynb Cell 12\u001b[0m in \u001b[0;36m<cell line: 5>\u001b[0;34m()\u001b[0m\n\u001b[1;32m      <a href='vscode-notebook-cell:/Users/eisko/github_repos/STP_analysis/STP_quant_fluor.ipynb#X22sZmlsZQ%3D%3D?line=3'>4</a>\u001b[0m \u001b[39mprint\u001b[39m(\u001b[39mlen\u001b[39m(steg_masks))\n\u001b[1;32m      <a href='vscode-notebook-cell:/Users/eisko/github_repos/STP_analysis/STP_quant_fluor.ipynb#X22sZmlsZQ%3D%3D?line=4'>5</a>\u001b[0m \u001b[39mfor\u001b[39;00m area \u001b[39min\u001b[39;00m areas_plot:\n\u001b[0;32m----> <a href='vscode-notebook-cell:/Users/eisko/github_repos/STP_analysis/STP_quant_fluor.ipynb#X22sZmlsZQ%3D%3D?line=5'>6</a>\u001b[0m     \u001b[39mprint\u001b[39m(areas\u001b[39m.\u001b[39;49mindex(area))\n",
      "\u001b[0;31mValueError\u001b[0m: 'OMCc' is not in list"
     ]
    }
   ],
   "source": [
    "print(len(areas))\n",
    "print(len(areas_plot))\n",
    "print(len(mmus_masks))\n",
    "print(len(steg_masks))\n",
    "for area in areas_plot:\n",
    "    print(areas.index(area))"
   ]
  },
  {
   "cell_type": "code",
   "execution_count": 31,
   "metadata": {},
   "outputs": [
    {
     "name": "stdout",
     "output_type": "stream",
     "text": [
      "(201, 522, 692)\n",
      "(201, 522, 692)\n",
      "(201, 522, 692)\n",
      "(201, 522, 692)\n",
      "(201, 522, 692)\n",
      "(201, 522, 692)\n",
      "(201, 522, 692)\n",
      "(201, 522, 692)\n",
      "(201, 522, 692)\n",
      "(201, 522, 692)\n",
      "(201, 522, 692)\n"
     ]
    },
    {
     "data": {
      "text/html": [
       "<div>\n",
       "<style scoped>\n",
       "    .dataframe tbody tr th:only-of-type {\n",
       "        vertical-align: middle;\n",
       "    }\n",
       "\n",
       "    .dataframe tbody tr th {\n",
       "        vertical-align: top;\n",
       "    }\n",
       "\n",
       "    .dataframe thead th {\n",
       "        text-align: right;\n",
       "    }\n",
       "</style>\n",
       "<table border=\"1\" class=\"dataframe\">\n",
       "  <thead>\n",
       "    <tr style=\"text-align: right;\">\n",
       "      <th></th>\n",
       "      <th>brain</th>\n",
       "      <th>species</th>\n",
       "      <th>inj_site</th>\n",
       "      <th>path</th>\n",
       "    </tr>\n",
       "  </thead>\n",
       "  <tbody>\n",
       "    <tr>\n",
       "      <th>0</th>\n",
       "      <td>ACC_MMus_230403_b1</td>\n",
       "      <td>MMus</td>\n",
       "      <td>ACC</td>\n",
       "      <td>ACC_MMus_230403_b1_aligned_to_STeg_220429_norm...</td>\n",
       "    </tr>\n",
       "    <tr>\n",
       "      <th>1</th>\n",
       "      <td>ACC_MMus_230404_b2</td>\n",
       "      <td>MMUs</td>\n",
       "      <td>ACC</td>\n",
       "      <td>ACC_MMus_230404_b2_aligned_to_STeg_220429_norm...</td>\n",
       "    </tr>\n",
       "    <tr>\n",
       "      <th>2</th>\n",
       "      <td>ACC_STeg_230308_b1</td>\n",
       "      <td>STeg</td>\n",
       "      <td>ACC</td>\n",
       "      <td>ACC_STeg_230308_b1_aligned_to_STeg_220429_norm...</td>\n",
       "    </tr>\n",
       "    <tr>\n",
       "      <th>3</th>\n",
       "      <td>ACC_STeg_230322_b2</td>\n",
       "      <td>STeg</td>\n",
       "      <td>ACC</td>\n",
       "      <td>ACC_STeg_230322_b2_aligned_to_STeg_220429_norm...</td>\n",
       "    </tr>\n",
       "    <tr>\n",
       "      <th>4</th>\n",
       "      <td>ACC_STeg_230501_b3</td>\n",
       "      <td>STeg</td>\n",
       "      <td>ACC</td>\n",
       "      <td>ACC_STeg_230501_b3_aligned_to_STeg_220429_norm...</td>\n",
       "    </tr>\n",
       "    <tr>\n",
       "      <th>5</th>\n",
       "      <td>OMC_MMus_220119_b0</td>\n",
       "      <td>MMus</td>\n",
       "      <td>OMC</td>\n",
       "      <td>OMC_MMus_220119_b0_aligned_to_STeg_220429_norm...</td>\n",
       "    </tr>\n",
       "    <tr>\n",
       "      <th>6</th>\n",
       "      <td>OMC_MMus_220303_b1</td>\n",
       "      <td>MMus</td>\n",
       "      <td>OMC</td>\n",
       "      <td>OMC_MMus_220303_b1_aligned_to_STeg_220429_norm...</td>\n",
       "    </tr>\n",
       "    <tr>\n",
       "      <th>7</th>\n",
       "      <td>OMC_MMus_220324_b2</td>\n",
       "      <td>MMus</td>\n",
       "      <td>OMC</td>\n",
       "      <td>OMC_MMus_220324_b2_aligned_to_STeg_220429_norm...</td>\n",
       "    </tr>\n",
       "    <tr>\n",
       "      <th>8</th>\n",
       "      <td>OMC_STeg_220208_b0</td>\n",
       "      <td>STeg</td>\n",
       "      <td>OMC</td>\n",
       "      <td>OMC_STeg_220208_b0_aligned_to_STeg_220429_norm...</td>\n",
       "    </tr>\n",
       "    <tr>\n",
       "      <th>9</th>\n",
       "      <td>OMC_STeg_220411_b1</td>\n",
       "      <td>STeg</td>\n",
       "      <td>OMC</td>\n",
       "      <td>OMC_STeg_220411_b1_aligned_to_STeg_220429_norm...</td>\n",
       "    </tr>\n",
       "    <tr>\n",
       "      <th>10</th>\n",
       "      <td>OMC_STeg_220429_b2</td>\n",
       "      <td>STeg</td>\n",
       "      <td>OMC</td>\n",
       "      <td>OMC_STeg_220429_b2_aligned_to_STeg_220429_norm...</td>\n",
       "    </tr>\n",
       "  </tbody>\n",
       "</table>\n",
       "</div>"
      ],
      "text/plain": [
       "                 brain species inj_site  \\\n",
       "0   ACC_MMus_230403_b1    MMus      ACC   \n",
       "1   ACC_MMus_230404_b2    MMUs      ACC   \n",
       "2   ACC_STeg_230308_b1    STeg      ACC   \n",
       "3   ACC_STeg_230322_b2    STeg      ACC   \n",
       "4   ACC_STeg_230501_b3    STeg      ACC   \n",
       "5   OMC_MMus_220119_b0    MMus      OMC   \n",
       "6   OMC_MMus_220303_b1    MMus      OMC   \n",
       "7   OMC_MMus_220324_b2    MMus      OMC   \n",
       "8   OMC_STeg_220208_b0    STeg      OMC   \n",
       "9   OMC_STeg_220411_b1    STeg      OMC   \n",
       "10  OMC_STeg_220429_b2    STeg      OMC   \n",
       "\n",
       "                                                 path  \n",
       "0   ACC_MMus_230403_b1_aligned_to_STeg_220429_norm...  \n",
       "1   ACC_MMus_230404_b2_aligned_to_STeg_220429_norm...  \n",
       "2   ACC_STeg_230308_b1_aligned_to_STeg_220429_norm...  \n",
       "3   ACC_STeg_230322_b2_aligned_to_STeg_220429_norm...  \n",
       "4   ACC_STeg_230501_b3_aligned_to_STeg_220429_norm...  \n",
       "5   OMC_MMus_220119_b0_aligned_to_STeg_220429_norm...  \n",
       "6   OMC_MMus_220303_b1_aligned_to_STeg_220429_norm...  \n",
       "7   OMC_MMus_220324_b2_aligned_to_STeg_220429_norm...  \n",
       "8   OMC_STeg_220208_b0_aligned_to_STeg_220429_norm...  \n",
       "9   OMC_STeg_220411_b1_aligned_to_STeg_220429_norm...  \n",
       "10  OMC_STeg_220429_b2_aligned_to_STeg_220429_norm...  "
      ]
     },
     "execution_count": 31,
     "metadata": {},
     "output_type": "execute_result"
    }
   ],
   "source": [
    "for i in range(len(images)):\n",
    "    print(images[i].shape)\n",
    "metadata"
   ]
  },
  {
   "cell_type": "code",
   "execution_count": 44,
   "metadata": {},
   "outputs": [
    {
     "name": "stdout",
     "output_type": "stream",
     "text": [
      "index                                                       5\n",
      "brain                                      OMC_MMus_220119_b0\n",
      "species                                                  MMus\n",
      "inj_site                                                  OMC\n",
      "path        /Volumes/Data/Emily/STP_for_MAPseq/4_python_ou...\n",
      "Name: 0, dtype: object\n",
      "OMCc 2\n",
      "CP 6\n",
      "aud 3\n",
      "AMY 7\n",
      "TH 4\n",
      "HY 14\n",
      "SNr 13\n",
      "SCm 12\n",
      "PG 9\n",
      "PAG 11\n",
      "BS 21\n"
     ]
    },
    {
     "ename": "IndexError",
     "evalue": "list index out of range",
     "output_type": "error",
     "traceback": [
      "\u001b[0;31m---------------------------------------------------------------------------\u001b[0m",
      "\u001b[0;31mIndexError\u001b[0m                                Traceback (most recent call last)",
      "\u001b[1;32m/Users/eisko/github_repos/STP_analysis/STP_quant_fluor.ipynb Cell 14\u001b[0m in \u001b[0;36m<cell line: 1>\u001b[0;34m()\u001b[0m\n\u001b[0;32m----> <a href='vscode-notebook-cell:/Users/eisko/github_repos/STP_analysis/STP_quant_fluor.ipynb#X14sZmlsZQ%3D%3D?line=0'>1</a>\u001b[0m omc_fluor \u001b[39m=\u001b[39m calc_fluor(images_omc, meta_omc, mm_masks\u001b[39m=\u001b[39;49mmmus_masks, st_masks\u001b[39m=\u001b[39;49msteg_masks,\n\u001b[1;32m      <a href='vscode-notebook-cell:/Users/eisko/github_repos/STP_analysis/STP_quant_fluor.ipynb#X14sZmlsZQ%3D%3D?line=1'>2</a>\u001b[0m                        mask_areas\u001b[39m=\u001b[39;49mareas_masked, areas_to_plot\u001b[39m=\u001b[39;49mareas_plot)\n\u001b[1;32m      <a href='vscode-notebook-cell:/Users/eisko/github_repos/STP_analysis/STP_quant_fluor.ipynb#X14sZmlsZQ%3D%3D?line=2'>3</a>\u001b[0m omc_fluor\n",
      "File \u001b[0;32m~/github_repos/STP_analysis/STP_processing.py:167\u001b[0m, in \u001b[0;36mcalc_fluor\u001b[0;34m(images, metadata, mm_masks, st_masks, mask_areas, areas_to_plot)\u001b[0m\n\u001b[1;32m    165\u001b[0m area_idx \u001b[39m=\u001b[39m mask_areas\u001b[39m.\u001b[39mindex(areas_to_plot[j])\n\u001b[1;32m    166\u001b[0m \u001b[39mprint\u001b[39m(areas_to_plot[j], area_idx)\n\u001b[0;32m--> 167\u001b[0m mask \u001b[39m=\u001b[39m mask_list[area_idx]\n\u001b[1;32m    168\u001b[0m roi \u001b[39m=\u001b[39m np\u001b[39m.\u001b[39mmultiply(images[i], mask)\n\u001b[1;32m    169\u001b[0m fluor \u001b[39m=\u001b[39m roi\u001b[39m.\u001b[39msum() \u001b[39m*\u001b[39m \u001b[39m0.00001\u001b[39m \u001b[39m# 10^-6 scaling factor\u001b[39;00m\n",
      "\u001b[0;31mIndexError\u001b[0m: list index out of range"
     ]
    }
   ],
   "source": [
    "omc_fluor = calc_fluor(images_omc, meta_omc, mm_masks=mmus_masks, st_masks=steg_masks,\n",
    "                       mask_areas=areas_masked, areas_to_plot=areas_plot)\n",
    "omc_fluor"
   ]
  },
  {
   "cell_type": "code",
   "execution_count": 26,
   "metadata": {},
   "outputs": [
    {
     "data": {
      "text/plain": [
       "'STeg'"
      ]
     },
     "execution_count": 26,
     "metadata": {},
     "output_type": "execute_result"
    }
   ],
   "source": [
    "row_met = metadata.iloc[i,:]\n",
    "row_met['species']\n"
   ]
  },
  {
   "cell_type": "markdown",
   "metadata": {},
   "source": [
    "## ACC"
   ]
  },
  {
   "cell_type": "markdown",
   "metadata": {},
   "source": []
  }
 ],
 "metadata": {
  "kernelspec": {
   "display_name": "STP_analysis",
   "language": "python",
   "name": "python3"
  },
  "language_info": {
   "codemirror_mode": {
    "name": "ipython",
    "version": 3
   },
   "file_extension": ".py",
   "mimetype": "text/x-python",
   "name": "python",
   "nbconvert_exporter": "python",
   "pygments_lexer": "ipython3",
   "version": "3.10.9"
  },
  "orig_nbformat": 4
 },
 "nbformat": 4,
 "nbformat_minor": 2
}
