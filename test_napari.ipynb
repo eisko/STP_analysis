{
 "cells": [
  {
   "cell_type": "code",
   "execution_count": 1,
   "metadata": {},
   "outputs": [],
   "source": [
    "############ LOAD PACKAGES\n",
    "import numpy as np\n",
    "import pandas as pd\n",
    "import napari\n",
    "import tifffile as tf\n",
    "import matplotlib.pyplot as plt\n",
    "\n",
    "# import custum colormaps\n",
    "from colormaps import *\n",
    "\n",
    "# import custum functions\n",
    "from STP_plotting import *\n",
    "from STP_processing import *\n",
    "\n",
    "# auto refreshes imported functions if source code changes:\n",
    "%load_ext autoreload\n",
    "%autoreload 2"
   ]
  },
  {
   "cell_type": "code",
   "execution_count": 4,
   "metadata": {},
   "outputs": [
    {
     "name": "stderr",
     "output_type": "stream",
     "text": [
      "Traceback (most recent call last):\n",
      "  File \"/home/emily/.conda/envs/napari/lib/python3.11/site-packages/napari/_qt/qt_viewer.py\", line 953, in _qt_open\n",
      "    self.viewer.open(\n",
      "  File \"/home/emily/.conda/envs/napari/lib/python3.11/site-packages/napari/components/viewer_model.py\", line 1102, in open\n",
      "    layers = self._open_or_raise_error(\n",
      "             ^^^^^^^^^^^^^^^^^^^^^^^^^^\n",
      "  File \"/home/emily/.conda/envs/napari/lib/python3.11/site-packages/napari/components/viewer_model.py\", line 1222, in _open_or_raise_error\n",
      "    raise MultipleReaderError(\n",
      "napari.errors.reader_errors.MultipleReaderError: Multiple plugins found capable of reading /home/emily/.brainglobe/allen_mouse_25um_v1.2. Select plugin from {'brainglobe-napari-io': 'brainglobe-napari-io', 'napari': 'napari builtins'} and pass to reading function e.g. `viewer.open(..., plugin=...)`.\n",
      "\n",
      "During handling of the above exception, another exception occurred:\n",
      "\n",
      "Traceback (most recent call last):\n",
      "  File \"/home/emily/.conda/envs/napari/lib/python3.11/site-packages/napari/_qt/qt_viewer.py\", line 1318, in dropEvent\n",
      "    self._qt_open(\n",
      "  File \"/home/emily/.conda/envs/napari/lib/python3.11/site-packages/napari/_qt/qt_viewer.py\", line 971, in _qt_open\n",
      "    handle_gui_reading(filenames, self, stack, **kwargs)\n",
      "  File \"/home/emily/.conda/envs/napari/lib/python3.11/site-packages/napari/_qt/dialogs/qt_reader_dialog.py\", line 201, in handle_gui_reading\n",
      "    open_with_dialog_choices(\n",
      "  File \"/home/emily/.conda/envs/napari/lib/python3.11/site-packages/napari/_qt/dialogs/qt_reader_dialog.py\", line 294, in open_with_dialog_choices\n",
      "    qt_viewer.viewer.open(paths, stack=stack, plugin=plugin_name, **kwargs)\n",
      "  File \"/home/emily/.conda/envs/napari/lib/python3.11/site-packages/napari/components/viewer_model.py\", line 1092, in open\n",
      "    self._add_layers_with_plugins(\n",
      "  File \"/home/emily/.conda/envs/napari/lib/python3.11/site-packages/napari/components/viewer_model.py\", line 1292, in _add_layers_with_plugins\n",
      "    layer_data, hookimpl = read_data_with_plugins(\n",
      "                           ^^^^^^^^^^^^^^^^^^^^^^^\n",
      "  File \"/home/emily/.conda/envs/napari/lib/python3.11/site-packages/napari/plugins/io.py\", line 77, in read_data_with_plugins\n",
      "    res = _npe2.read(paths, plugin, stack=stack)\n",
      "          ^^^^^^^^^^^^^^^^^^^^^^^^^^^^^^^^^^^^^^\n",
      "  File \"/home/emily/.conda/envs/napari/lib/python3.11/site-packages/napari/plugins/_npe2.py\", line 63, in read\n",
      "    layer_data, reader = io_utils.read_get_reader(\n",
      "                         ^^^^^^^^^^^^^^^^^^^^^^^^^\n",
      "  File \"/home/emily/.conda/envs/napari/lib/python3.11/site-packages/npe2/io_utils.py\", line 66, in read_get_reader\n",
      "    return _read(\n",
      "           ^^^^^^\n",
      "  File \"/home/emily/.conda/envs/napari/lib/python3.11/site-packages/npe2/io_utils.py\", line 176, in _read\n",
      "    raise ValueError(\n",
      "ValueError: Reader 'brainglobe-napari-io' was selected to open ['/home/emily/.brainglobe/allen_mouse_25um_v1.2'], but returned no data.\n"
     ]
    }
   ],
   "source": [
    "viewer = napari.Viewer()\n"
   ]
  }
 ],
 "metadata": {
  "kernelspec": {
   "display_name": "napari",
   "language": "python",
   "name": "python3"
  },
  "language_info": {
   "codemirror_mode": {
    "name": "ipython",
    "version": 3
   },
   "file_extension": ".py",
   "mimetype": "text/x-python",
   "name": "python",
   "nbconvert_exporter": "python",
   "pygments_lexer": "ipython3",
   "version": "3.11.4"
  }
 },
 "nbformat": 4,
 "nbformat_minor": 2
}
