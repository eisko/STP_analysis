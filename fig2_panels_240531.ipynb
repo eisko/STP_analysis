{
 "cells": [
  {
   "cell_type": "markdown",
   "metadata": {},
   "source": [
    "# Panels for figure 2\n",
    "5/31/24\n",
    "\n",
    "NOTE: loaded images are aligned to STeg_220429"
   ]
  },
  {
   "cell_type": "code",
   "execution_count": 1,
   "metadata": {},
   "outputs": [],
   "source": [
    "############ LOAD PACKAGES\n",
    "import numpy as np\n",
    "import pandas as pd\n",
    "import tifffile as tf\n",
    "import matplotlib.pyplot as plt\n",
    "import napari\n",
    "\n",
    "# import custum colormaps\n",
    "from colormaps import *\n",
    "\n",
    "# import custum functions\n",
    "from STP_plotting import *\n",
    "from STP_processing import *\n",
    "\n",
    "# auto refreshes imported functions if source code changes:\n",
    "%load_ext autoreload\n",
    "%autoreload 2"
   ]
  },
  {
   "cell_type": "code",
   "execution_count": 24,
   "metadata": {},
   "outputs": [],
   "source": [
    "# set-up vars\n",
    "# home_dir = \"/Volumes/Data/\"\n",
    "home_dir = \"/mnt/labNAS/\"\n",
    "\n",
    "in_path = home_dir+\"Emily/STP_for_MAPseq/4_python_output/input_tifs/\"\n",
    "out_path = home_dir+\"Emily/figures/fig_2_mapseq/napari_stp_screenshots/\"\n",
    "\n",
    "metadata = pd.read_csv(\"stp_metadata.csv\")\n",
    "meta = metadata[metadata[\"inj_site\"]==\"OMC\"].reset_index(drop=True)"
   ]
  },
  {
   "cell_type": "code",
   "execution_count": 3,
   "metadata": {},
   "outputs": [
    {
     "name": "stdout",
     "output_type": "stream",
     "text": [
      "loading: OMC_MMus_220119_b0\n",
      "loading: OMC_MMus_220303_b1\n",
      "loading: OMC_MMus_220324_b2\n",
      "loading: OMC_STeg_220208_b0\n",
      "loading: OMC_STeg_220411_b1\n",
      "loading: OMC_STeg_220429_b2\n"
     ]
    }
   ],
   "source": [
    "# import all tiff files aligned to STeg_220429\n",
    "p05_path = in_path+\"norm_subtracted/STeg_220429_aligned/\"\n",
    "p05_images = []\n",
    "for i in range(meta.shape[0]):\n",
    "    print(\"loading:\", meta.loc[i, \"brain\"])\n",
    "    p05_images.append(tf.imread(p05_path+meta.loc[i,'brain']+\"_aligned_to_STeg_220429_NO_subtracted.tif\"))\n",
    "    # p05_images.append(tf.imread(p05_path+meta.loc[i,'brain']+\"_p05_norm_subtracted.tif\"))\n"
   ]
  },
  {
   "cell_type": "code",
   "execution_count": 4,
   "metadata": {},
   "outputs": [],
   "source": [
    "# import masks\n",
    "# areas made w/ script\n",
    "areas = [\"grey\", \"CTX\", \"OMCi\", \"OMCc\", \"ACAi\", \"ACAc\", \"aud\",\"TH\", \"STR\", \"CP\", \"AMY\", \"P\", \"PG\", \"MB\", \"PAG\", \"SCm\", \n",
    "         \"SNr\", \"HY\", \"CNU\", \"TEa\", \"ECT\", \"VISC\", \"AI\", \"GU\", \"BS\", \"HIP\"]\n",
    "\n",
    "# import masks aligned to steg_hand_straightened_asr\n",
    "masks_path = in_path+\"masks/steg_220429_hs_asr/\"\n",
    "\n",
    "# load masks\n",
    "masks = {}\n",
    "for area in areas:\n",
    " \n",
    "    with open(masks_path+\"steg_220429_hs_asr_\"+area+\".npy\", \"rb\") as f:\n",
    "            mask = np.load(f)\n",
    "    masks[area] = mask\n"
   ]
  },
  {
   "cell_type": "markdown",
   "metadata": {},
   "source": [
    "# visualize inverted slices"
   ]
  },
  {
   "cell_type": "code",
   "execution_count": 23,
   "metadata": {},
   "outputs": [],
   "source": [
    "# visualize w/ napari\n",
    "viewer = napari.Viewer()\n",
    "\n",
    "for i in range(len(p05_images)):\n",
    "    viewer.add_image(\n",
    "        p05_images[i],\n",
    "        name=meta.loc[i,\"brain\"],\n",
    "        scale=[2.5,1,1],\n",
    "        colormap=\"gray_r\"\n",
    "    )"
   ]
  },
  {
   "cell_type": "code",
   "execution_count": 6,
   "metadata": {},
   "outputs": [],
   "source": [
    "viewer.close()"
   ]
  },
  {
   "cell_type": "markdown",
   "metadata": {},
   "source": [
    "# inverted individual photos"
   ]
  },
  {
   "cell_type": "code",
   "execution_count": 15,
   "metadata": {},
   "outputs": [
    {
     "data": {
      "text/html": [
       "<div>\n",
       "<style scoped>\n",
       "    .dataframe tbody tr th:only-of-type {\n",
       "        vertical-align: middle;\n",
       "    }\n",
       "\n",
       "    .dataframe tbody tr th {\n",
       "        vertical-align: top;\n",
       "    }\n",
       "\n",
       "    .dataframe thead th {\n",
       "        text-align: right;\n",
       "    }\n",
       "</style>\n",
       "<table border=\"1\" class=\"dataframe\">\n",
       "  <thead>\n",
       "    <tr style=\"text-align: right;\">\n",
       "      <th></th>\n",
       "      <th>brain</th>\n",
       "      <th>species</th>\n",
       "      <th>inj_site</th>\n",
       "      <th>shape</th>\n",
       "    </tr>\n",
       "  </thead>\n",
       "  <tbody>\n",
       "    <tr>\n",
       "      <th>0</th>\n",
       "      <td>OMC_MMus_220119_b0</td>\n",
       "      <td>MMus</td>\n",
       "      <td>OMC</td>\n",
       "      <td>NaN</td>\n",
       "    </tr>\n",
       "    <tr>\n",
       "      <th>1</th>\n",
       "      <td>OMC_MMus_220303_b1</td>\n",
       "      <td>MMus</td>\n",
       "      <td>OMC</td>\n",
       "      <td>NaN</td>\n",
       "    </tr>\n",
       "    <tr>\n",
       "      <th>2</th>\n",
       "      <td>OMC_MMus_220324_b2</td>\n",
       "      <td>MMus</td>\n",
       "      <td>OMC</td>\n",
       "      <td>NaN</td>\n",
       "    </tr>\n",
       "    <tr>\n",
       "      <th>3</th>\n",
       "      <td>OMC_STeg_220208_b0</td>\n",
       "      <td>STeg</td>\n",
       "      <td>OMC</td>\n",
       "      <td>NaN</td>\n",
       "    </tr>\n",
       "    <tr>\n",
       "      <th>4</th>\n",
       "      <td>OMC_STeg_220411_b1</td>\n",
       "      <td>STeg</td>\n",
       "      <td>OMC</td>\n",
       "      <td>NaN</td>\n",
       "    </tr>\n",
       "    <tr>\n",
       "      <th>5</th>\n",
       "      <td>OMC_STeg_220429_b2</td>\n",
       "      <td>STeg</td>\n",
       "      <td>OMC</td>\n",
       "      <td>NaN</td>\n",
       "    </tr>\n",
       "  </tbody>\n",
       "</table>\n",
       "</div>"
      ],
      "text/plain": [
       "                brain species inj_site  shape\n",
       "0  OMC_MMus_220119_b0    MMus      OMC    NaN\n",
       "1  OMC_MMus_220303_b1    MMus      OMC    NaN\n",
       "2  OMC_MMus_220324_b2    MMus      OMC    NaN\n",
       "3  OMC_STeg_220208_b0    STeg      OMC    NaN\n",
       "4  OMC_STeg_220411_b1    STeg      OMC    NaN\n",
       "5  OMC_STeg_220429_b2    STeg      OMC    NaN"
      ]
     },
     "execution_count": 15,
     "metadata": {},
     "output_type": "execute_result"
    }
   ],
   "source": [
    "meta"
   ]
  },
  {
   "cell_type": "code",
   "execution_count": 28,
   "metadata": {},
   "outputs": [],
   "source": [
    "brains = [\"OMC_STeg_220411_b1\", \"OMC_MMus_220119_b0\"]\n",
    "titles = [\"OMC\", \"STR\", \"AudR_TH_AMY_SNr\", \"SCm_PAG_PG\"]\n",
    "nslices = [27, 75, 99, 142]\n",
    "st_contrast = [0, 1457]\n",
    "mm_contrast = [0, 2174]\n",
    "\n",
    "for b in brains:\n",
    "    idx = meta[meta[\"brain\"]==b].index[0]\n",
    "    im = p05_images[idx]\n",
    "    sp = meta.loc[idx,\"species\"]\n",
    "    if sp==\"STeg\":\n",
    "        contrast = st_contrast\n",
    "    elif sp==\"MMus\":\n",
    "        contrast = mm_contrast\n",
    "\n",
    "    viewer = napari.Viewer()\n",
    "    viewer.add_image(\n",
    "        im,\n",
    "        scale=[2.5,1,1],\n",
    "        contrast_limits = contrast,\n",
    "        colormap = \"gray_r\"\n",
    "    )\n",
    "\n",
    "    # add scale bar\n",
    "    viewer.scale_bar.visible = True\n",
    "    viewer.scale_bar.unit = \"um\"\n",
    "\n",
    "    # take screen shot of each relevant slice\n",
    "    for i in range(len(nslices)):\n",
    "        viewer.dims.set_point(0, nslices[i])\n",
    "        viewer.screenshot(out_path+titles[i]+\"_\"+b+\"_\"+str(nslices[i])+\".png\",\n",
    "                            canvas_only=True, size=(im.shape[1:]))\n",
    "    \n",
    "    viewer.close()\n",
    "\n",
    "\n"
   ]
  }
 ],
 "metadata": {
  "kernelspec": {
   "display_name": "STP_analysis",
   "language": "python",
   "name": "python3"
  },
  "language_info": {
   "codemirror_mode": {
    "name": "ipython",
    "version": 3
   },
   "file_extension": ".py",
   "mimetype": "text/x-python",
   "name": "python",
   "nbconvert_exporter": "python",
   "pygments_lexer": "ipython3",
   "version": "3.11.4"
  }
 },
 "nbformat": 4,
 "nbformat_minor": 2
}
